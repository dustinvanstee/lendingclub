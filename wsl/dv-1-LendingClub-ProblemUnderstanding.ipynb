{
    "metadata": {
        "language_info": {
            "name": "python", 
            "mimetype": "text/x-python", 
            "nbconvert_exporter": "python", 
            "pygments_lexer": "ipython2", 
            "codemirror_mode": {
                "name": "ipython", 
                "version": 2
            }, 
            "file_extension": ".py", 
            "version": "2.7.11"
        }, 
        "celltoolbar": "Raw Cell Format", 
        "kernelspec": {
            "display_name": "Python 2 with Spark 2.0", 
            "name": "python2-spark20", 
            "language": "python"
        }
    }, 
    "nbformat": 4, 
    "cells": [
        {
            "metadata": {}, 
            "source": "<h1 id=\"tocheading\">Credit Default Prediction</h1>\n<div id=\"toc\"></div>\n\n", 
            "cell_type": "markdown"
        }, 
        {
            "metadata": {}, 
            "source": "## Introduction", 
            "cell_type": "markdown"
        }, 
        {
            "metadata": {}, 
            "source": "<img src=\"https://github.com/CatherineCao2016/pics/raw/master/lcintro.png\" width=\"800\" height=\"500\" align=\"middle\"/>", 
            "cell_type": "markdown"
        }, 
        {
            "metadata": {}, 
            "source": "[Lending Club (LC)](https://www.lendingclub.com/) is the world\u2019s largest online marketplace connecting borrowers and investors. It is transforming the banking system to make credit more affordable and investing more rewarding. Lending Club operates at a lower cost than traditional bank lending programs and pass the savings on to borrowers in the form of lower rates and to investors in the form of solid risk-adjusted returns.\n\nThe original data set is downloaded from [LC](https://www.lendingclub.com/info/download-data.action) covering complete loan data for all loans issued through the 2007-2015, including the current loan status (Current, Late, Fully Paid, etc.) and latest payment information. Additional features include credit history, number of finance inquiries, address including zip codes, and state, and collections among others. It is quite rich and is really the only quality source of credit risk data we could locate; there is a large amount of value in the data and companies guard it relentlessly. Goldman Sachs\u2019 new peer-to-peer lending platform called Marcus was built almost entirely using the Lending Club data.\n\nIn this notebook, we will play with the LC data, conduct a set of exploratory analysis and try to apply various machine learning techniques to predict borrower\u2019s default. We took a random sample of 40k out of 890 k observations for demo purpose.", 
            "cell_type": "markdown"
        }, 
        {
            "metadata": {}, 
            "source": "## Workflow\n<img src=\"https://github.com/dustinvanstee/random-public-files/raw/master/dsx-methodology.png\" width=\"900\" height=\"700\" align=\"middle\"/>\n\n### Here we use these simple high level steps to work through a typical data science problem.  This is a highly iterative approach ...\n", 
            "cell_type": "markdown"
        }, 
        {
            "metadata": {}, 
            "source": "### Goals\n\n* Predict Loan Defaults with provided Lending club data sets\n* Process the data, and prepare for ML with Spark MLLib\n* Visualize the data\n* Identify strong dependent variables\n* Create a simple app and deploy a model", 
            "cell_type": "markdown"
        }, 
        {
            "metadata": {
                "slideshow": {
                    "slide_type": "-"
                }, 
                "scrolled": false, 
                "collapsed": true
            }, 
            "source": "### Links\n* [Data Preparation](https://apsportal.ibm.com/analytics/notebooks/9ef75f73-140a-4618-9292-1de51f5f331c/view?projectid=399ab81a-5140-4d51-a5df-b6e82d51db85&context=analytics)\n* [Data Visualization](https://apsportal.ibm.com/analytics/notebooks/24dd6830-8a01-4bde-b42d-1d040079af16/view?projectid=399ab81a-5140-4d51-a5df-b6e82d51db85&context=analytics)\n* [Modelling/Eval/Deploy](https://apsportal.ibm.com/analytics/notebooks/2d84420b-e005-4b95-99f6-a56148305fbc/view?projectid=399ab81a-5140-4d51-a5df-b6e82d51db85&context=analytics)\n* [Web App]()\n\n\n", 
            "cell_type": "markdown"
        }, 
        {
            "source": "", 
            "metadata": {
                "collapsed": true
            }, 
            "execution_count": null, 
            "cell_type": "code", 
            "outputs": []
        }
    ], 
    "nbformat_minor": 1
}