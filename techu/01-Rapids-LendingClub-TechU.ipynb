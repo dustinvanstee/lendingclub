{
 "cells": [
  {
   "cell_type": "markdown",
   "metadata": {},
   "source": [
    "# Introduction to Rapids\n",
    "\n",
    "<img src=\"../nb_images/rapids.png\" alt=\"Drawing\" style=\"width: 600px;\"/>\n",
    "\n",
    "\n",
    "Rapids is a data preparation and machine learning library that is designed to take maximum advantage of the Nvidia GPU.  The libraries are called cuDF and cuML and take a lot of the same design and API semantics from Pandas and Sklearn Python libaries.   Speedups of over 10x are not uncommon for a lot of everyday tasks.\n",
    "\n",
    "If you are familiar with Pandas and Sklearn, this code in this lab will look familiar.  Rapids is still under development, so its not as full featured as the Pandas and Sklearn libraries, but it is continually getting new functions.  \n",
    "\n",
    "The following lab will walk you through how to use Rapids with a sample dataset.  **This lab will focus on the performance capabilities of Rapids by comparing it to Pandas and Sklearn equivalent operations.** It is not meant to be a machine learning tutorial. \n"
   ]
  },
  {
   "cell_type": "markdown",
   "metadata": {
    "ExecuteTime": {
     "end_time": "2019-09-18T14:30:19.593186Z",
     "start_time": "2019-09-18T14:30:19.590705Z"
    }
   },
   "source": [
    "## A word on performance comparisons of RAPIDS vs Pandas\n",
    "\n",
    "Pandas and Numpy are two of the most popular libraries for both data engineers and data scientists.  The libraries are very robust and perfomant, but one major drawback is that they are single threaded libraries.  When comparing RAPIDs vs Pandas/Numpy you are seeing the benefit of parallelizing these types of tasks overs potentially thousands of seperate threads.  "
   ]
  },
  {
   "cell_type": "markdown",
   "metadata": {},
   "source": [
    "## CuDF basics\n",
    "\n",
    "Built based on the Apache Arrow columnar memory format, cuDF is a GPU DataFrame library for loading, joining, aggregating, filtering, and manipulating data.\n",
    "\n",
    "cuDF provides a pandas-like API that will be familiar to data engineers & data scientists, so they can use it to easily accelerate their workflows without going into the details of CUDA programming.\n",
    "\n",
    "Definitions :\n",
    "* GPU Dataframe : a dataframe from the RAPIDS cuDF library running on the GPU\n"
   ]
  },
  {
   "cell_type": "markdown",
   "metadata": {},
   "source": [
    "### Helper functions\n",
    "\n",
    "Execute the functions below, they are needed for follow-on parts of the lab.  Note the **pgdf** function is a convenience function to display the GPU dataframe in a nice format for jupyter notebook."
   ]
  },
  {
   "cell_type": "code",
   "execution_count": 1,
   "metadata": {
    "ExecuteTime": {
     "end_time": "2019-09-23T10:49:13.433624Z",
     "start_time": "2019-09-23T10:49:11.971987Z"
    }
   },
   "outputs": [],
   "source": [
    "# Imports\n",
    "import pandas as pd\n",
    "import numpy as np\n",
    "import matplotlib\n",
    "import matplotlib.pyplot as plt\n",
    "\n",
    "import warnings\n",
    "warnings.filterwarnings('ignore')\n",
    "import time\n",
    "import timeit\n",
    "\n",
    "from datetime import datetime\n",
    "import math\n",
    "\n",
    "pd.set_option('display.max_rows', 500)\n",
    "pd.set_option('display.max_columns', 500)\n",
    "pd.set_option('display.width', 1000)\n",
    "\n",
    "import glob\n",
    "import os\n",
    "import sys\n",
    "sys.path.append('../utils/') \n",
    "\n",
    "#dask\n",
    "import dask\n",
    "from dask import dataframe as dd\n",
    "\n",
    "# Rapids\n",
    "import cudf\n",
    "from cudf.dataframe import DataFrame as RapidsDataFrame"
   ]
  },
  {
   "cell_type": "code",
   "execution_count": 2,
   "metadata": {
    "ExecuteTime": {
     "end_time": "2019-09-23T10:49:13.438668Z",
     "start_time": "2019-09-23T10:49:13.435728Z"
    }
   },
   "outputs": [],
   "source": [
    "# [print gpu dataframe] helper function to print GPU dataframes \n",
    "def pgdf(gdf) :\n",
    "    display(gdf.to_pandas())"
   ]
  },
  {
   "cell_type": "code",
   "execution_count": 3,
   "metadata": {
    "ExecuteTime": {
     "end_time": "2019-09-23T10:49:13.562537Z",
     "start_time": "2019-09-23T10:49:13.440679Z"
    }
   },
   "outputs": [],
   "source": [
    "def time_command(cmd,repeat=1) :\n",
    "    avg_runtime = timeit.timeit(cmd, number=repeat)\n",
    "    return float(avg_runtime / repeat)"
   ]
  },
  {
   "cell_type": "code",
   "execution_count": 4,
   "metadata": {
    "ExecuteTime": {
     "end_time": "2019-09-23T10:49:13.689198Z",
     "start_time": "2019-09-23T10:49:13.564174Z"
    }
   },
   "outputs": [],
   "source": [
    "# Dictionary to store results ..\n",
    "# example \"describe\" : {\"gpu\" : []}\n",
    "# TODO : make display results look better ..\n",
    "class COMPARE() :\n",
    "        ## Abstract Custom Implementations\n",
    "    def __init__(self) :\n",
    "        #nprint(\"Loading Data.  Overriding __init__ from dfutils\")\n",
    "        self.tests = []\n",
    "        self.gpu_results = {}\n",
    "        self.cpu_results = {}\n",
    "        self.df_shape = (0,0)\n",
    "        self.df_memory_gb = 0 \n",
    "\n",
    "    def add_result(self, test_name, gpu_result, runtime) :\n",
    "        if test_name not in self.tests :\n",
    "            self.tests.append(test_name)\n",
    "            self.gpu_results[test_name] = []\n",
    "            self.cpu_results[test_name] = []\n",
    "        \n",
    "        if(gpu_result == \"gpu\") :\n",
    "            self.gpu_results[test_name].append(runtime)\n",
    "        else :\n",
    "            self.cpu_results[test_name].append(runtime)\n",
    "            \n",
    "    def display_results(self) :\n",
    "        print(\"Dataframe size : {} {} GB\".format(self.df_shape, self.df_memory_gb))\n",
    "        print(\"{:<20} {:<20} {:<20} {:<20}\".format(\"test\", \"CPU(s)\", \"GPU(s)\", \"GPU Speedup\"))\n",
    "        for i in self.tests :\n",
    "            cpu_mean = sum(self.cpu_results[i]) / (len(self.cpu_results[i])+0.00001)\n",
    "            gpu_mean = sum(self.gpu_results[i]) / (len(self.gpu_results[i])+0.00001)\n",
    "            su = cpu_mean / (gpu_mean + .00001)\n",
    "            print(\"{:<20} {:<20.4f} {:<20.4f} {:<20.2f}\".format(i, cpu_mean, gpu_mean, su ))\n",
    "\n",
    "run_times = COMPARE()\n"
   ]
  },
  {
   "cell_type": "code",
   "execution_count": 5,
   "metadata": {
    "ExecuteTime": {
     "end_time": "2019-09-23T10:49:13.814637Z",
     "start_time": "2019-09-23T10:49:13.690785Z"
    }
   },
   "outputs": [],
   "source": [
    "def pca_scree(pca_explained_variance, label) :\n",
    "        \n",
    "    # bin is my x axis variable\n",
    "    bin = []\n",
    "    for i in range (len(pca_explained_variance)):\n",
    "        bin.append(i+1)\n",
    "    # plot the cummulative variance against the index of PCA\n",
    "    cum_var = np.cumsum(pca_explained_variance)\n",
    "    plt.plot(bin, cum_var)\n",
    "    # plot the 95% threshold, so we can read off count of principal components that matter\n",
    "    plt.plot(bin, [.95]*n_components, '--')\n",
    "    plt.plot(bin, [.75]*n_components, '--')\n",
    "    plt.plot(bin, [.50]*n_components, '--')\n",
    "    #turn on grid to make graph reading easier\n",
    "    plt.grid(True)\n",
    "    #plt.rcParams.update({'font.size': 24})\n",
    "    plt.suptitle(label + ' PCA Variance Explained')\n",
    "    plt.xlabel('Number of PCA Components', fontsize=18)\n",
    "    plt.ylabel('Fraction of Variance \\nExplained', fontsize=16)\n",
    "    # control number of tick marks, \n",
    "    plt.xticks([i for i in range(0,n_components)])\n",
    "    plt.show()\n"
   ]
  },
  {
   "cell_type": "markdown",
   "metadata": {
    "ExecuteTime": {
     "end_time": "2019-08-26T14:10:21.285474Z",
     "start_time": "2019-08-26T14:10:21.282708Z"
    }
   },
   "source": [
    "### Useful DataFrame attributes\n",
    "\n",
    "When you create a GPU dataframe, there are a number of methods available for you to understand the composition.  The detailed list is found in the Rapids [cuDF documentation](https://docs.rapids.ai/api/cudf/0.7/) \n",
    "\n",
    "Below we will create a small cuDF dataframe and look at some of its attributes.  A few of these attributes come in handy when debugging \n",
    "\n",
    "* dtypes  :  Shows all the columns and associated data types \n",
    "* shape   :  Shows the shape (rows / columns) of the dataframe\n",
    "* columns :  Show the column names in a python list\n"
   ]
  },
  {
   "cell_type": "code",
   "execution_count": 6,
   "metadata": {
    "ExecuteTime": {
     "end_time": "2019-09-23T10:49:14.272046Z",
     "start_time": "2019-09-23T10:49:14.040689Z"
    }
   },
   "outputs": [],
   "source": [
    "# Create a simple GPU dataframe\n",
    "df = cudf.DataFrame()\n",
    "df['column1'] = [0, 1, 2, 3, 4]\n",
    "df['column2'] = [float(i + 10) for i in range(5)]  # insert column\n",
    "df['column3'] = [\"bbb\",\"aaa\",\"ccc\",\"eee\",\"Ddd\"]  # insert column"
   ]
  },
  {
   "cell_type": "code",
   "execution_count": 7,
   "metadata": {
    "ExecuteTime": {
     "end_time": "2019-09-23T10:49:14.946124Z",
     "start_time": "2019-09-23T10:49:14.923912Z"
    }
   },
   "outputs": [
    {
     "data": {
      "text/html": [
       "<div>\n",
       "<style scoped>\n",
       "    .dataframe tbody tr th:only-of-type {\n",
       "        vertical-align: middle;\n",
       "    }\n",
       "\n",
       "    .dataframe tbody tr th {\n",
       "        vertical-align: top;\n",
       "    }\n",
       "\n",
       "    .dataframe thead th {\n",
       "        text-align: right;\n",
       "    }\n",
       "</style>\n",
       "<table border=\"1\" class=\"dataframe\">\n",
       "  <thead>\n",
       "    <tr style=\"text-align: right;\">\n",
       "      <th></th>\n",
       "      <th>column1</th>\n",
       "      <th>column2</th>\n",
       "      <th>column3</th>\n",
       "    </tr>\n",
       "  </thead>\n",
       "  <tbody>\n",
       "    <tr>\n",
       "      <th>0</th>\n",
       "      <td>0</td>\n",
       "      <td>10.0</td>\n",
       "      <td>bbb</td>\n",
       "    </tr>\n",
       "    <tr>\n",
       "      <th>1</th>\n",
       "      <td>1</td>\n",
       "      <td>11.0</td>\n",
       "      <td>aaa</td>\n",
       "    </tr>\n",
       "    <tr>\n",
       "      <th>2</th>\n",
       "      <td>2</td>\n",
       "      <td>12.0</td>\n",
       "      <td>ccc</td>\n",
       "    </tr>\n",
       "    <tr>\n",
       "      <th>3</th>\n",
       "      <td>3</td>\n",
       "      <td>13.0</td>\n",
       "      <td>eee</td>\n",
       "    </tr>\n",
       "    <tr>\n",
       "      <th>4</th>\n",
       "      <td>4</td>\n",
       "      <td>14.0</td>\n",
       "      <td>Ddd</td>\n",
       "    </tr>\n",
       "  </tbody>\n",
       "</table>\n",
       "</div>"
      ],
      "text/plain": [
       "   column1  column2 column3\n",
       "0        0     10.0     bbb\n",
       "1        1     11.0     aaa\n",
       "2        2     12.0     ccc\n",
       "3        3     13.0     eee\n",
       "4        4     14.0     Ddd"
      ]
     },
     "metadata": {},
     "output_type": "display_data"
    }
   ],
   "source": [
    "#Print the dataframe\n",
    "pgdf(df)"
   ]
  },
  {
   "cell_type": "code",
   "execution_count": 8,
   "metadata": {
    "ExecuteTime": {
     "end_time": "2019-09-23T10:49:15.989403Z",
     "start_time": "2019-09-23T10:49:15.981740Z"
    }
   },
   "outputs": [
    {
     "name": "stdout",
     "output_type": "stream",
     "text": [
      "\n",
      "Dataframe datatypes\n",
      "---------------------\n",
      "column1      int64\n",
      "column2    float64\n",
      "column3     object\n",
      "dtype: object\n",
      "\n",
      "Dataframe Shape\n",
      "---------------------\n",
      "(5, 3)\n",
      "\n",
      "Dataframe dimesions\n",
      "---------------------\n",
      "2\n",
      "\n",
      "Dataframe Column names\n",
      "---------------------\n",
      "Index(['column1', 'column2', 'column3'], dtype='object')\n"
     ]
    }
   ],
   "source": [
    "# Dataframe attributes\n",
    "print(\"\\nDataframe datatypes\\n---------------------\")\n",
    "print(df.dtypes)\n",
    "print(\"\\nDataframe Shape\\n---------------------\")\n",
    "print(df.shape)\n",
    "print(\"\\nDataframe dimesions\\n---------------------\")\n",
    "print(df.ndim)\n",
    "print(\"\\nDataframe Column names\\n---------------------\")\n",
    "print(df.columns)"
   ]
  },
  {
   "cell_type": "markdown",
   "metadata": {
    "ExecuteTime": {
     "end_time": "2019-09-18T14:05:34.555877Z",
     "start_time": "2019-09-18T14:05:34.553373Z"
    }
   },
   "source": [
    "### Create a cuDF dataframe from Numpy/Pandas array\n",
    "Rapids cuDF supports the conversion of pandas and numpy arrays to cuDF dataframes.  In the example below we show examples of how you can do this for each type"
   ]
  },
  {
   "cell_type": "code",
   "execution_count": 9,
   "metadata": {
    "ExecuteTime": {
     "end_time": "2019-09-23T10:49:18.314217Z",
     "start_time": "2019-09-23T10:49:17.265832Z"
    }
   },
   "outputs": [
    {
     "data": {
      "text/html": [
       "<div>\n",
       "<style scoped>\n",
       "    .dataframe tbody tr th:only-of-type {\n",
       "        vertical-align: middle;\n",
       "    }\n",
       "\n",
       "    .dataframe tbody tr th {\n",
       "        vertical-align: top;\n",
       "    }\n",
       "\n",
       "    .dataframe thead th {\n",
       "        text-align: right;\n",
       "    }\n",
       "</style>\n",
       "<table border=\"1\" class=\"dataframe\">\n",
       "  <thead>\n",
       "    <tr style=\"text-align: right;\">\n",
       "      <th></th>\n",
       "      <th>0</th>\n",
       "      <th>1</th>\n",
       "      <th>2</th>\n",
       "      <th>3</th>\n",
       "      <th>4</th>\n",
       "      <th>5</th>\n",
       "      <th>6</th>\n",
       "      <th>7</th>\n",
       "      <th>8</th>\n",
       "      <th>9</th>\n",
       "      <th>10</th>\n",
       "      <th>11</th>\n",
       "      <th>12</th>\n",
       "      <th>13</th>\n",
       "      <th>14</th>\n",
       "      <th>15</th>\n",
       "      <th>16</th>\n",
       "      <th>17</th>\n",
       "      <th>18</th>\n",
       "      <th>19</th>\n",
       "      <th>20</th>\n",
       "      <th>21</th>\n",
       "      <th>22</th>\n",
       "      <th>23</th>\n",
       "      <th>24</th>\n",
       "      <th>25</th>\n",
       "      <th>26</th>\n",
       "      <th>27</th>\n",
       "      <th>28</th>\n",
       "      <th>29</th>\n",
       "      <th>30</th>\n",
       "      <th>31</th>\n",
       "      <th>32</th>\n",
       "      <th>33</th>\n",
       "      <th>34</th>\n",
       "      <th>35</th>\n",
       "      <th>36</th>\n",
       "      <th>37</th>\n",
       "      <th>38</th>\n",
       "      <th>39</th>\n",
       "      <th>40</th>\n",
       "      <th>41</th>\n",
       "      <th>42</th>\n",
       "      <th>43</th>\n",
       "      <th>44</th>\n",
       "      <th>45</th>\n",
       "      <th>46</th>\n",
       "      <th>47</th>\n",
       "      <th>48</th>\n",
       "      <th>49</th>\n",
       "      <th>50</th>\n",
       "      <th>51</th>\n",
       "      <th>52</th>\n",
       "      <th>53</th>\n",
       "      <th>54</th>\n",
       "      <th>55</th>\n",
       "      <th>56</th>\n",
       "      <th>57</th>\n",
       "      <th>58</th>\n",
       "      <th>59</th>\n",
       "      <th>60</th>\n",
       "      <th>61</th>\n",
       "      <th>62</th>\n",
       "      <th>63</th>\n",
       "      <th>64</th>\n",
       "      <th>65</th>\n",
       "      <th>66</th>\n",
       "      <th>67</th>\n",
       "      <th>68</th>\n",
       "      <th>69</th>\n",
       "      <th>70</th>\n",
       "      <th>71</th>\n",
       "      <th>72</th>\n",
       "      <th>73</th>\n",
       "      <th>74</th>\n",
       "      <th>75</th>\n",
       "      <th>76</th>\n",
       "      <th>77</th>\n",
       "      <th>78</th>\n",
       "      <th>79</th>\n",
       "      <th>80</th>\n",
       "      <th>81</th>\n",
       "      <th>82</th>\n",
       "      <th>83</th>\n",
       "      <th>84</th>\n",
       "      <th>85</th>\n",
       "      <th>86</th>\n",
       "      <th>87</th>\n",
       "      <th>88</th>\n",
       "      <th>89</th>\n",
       "      <th>90</th>\n",
       "      <th>91</th>\n",
       "      <th>92</th>\n",
       "      <th>93</th>\n",
       "      <th>94</th>\n",
       "      <th>95</th>\n",
       "      <th>96</th>\n",
       "      <th>97</th>\n",
       "      <th>98</th>\n",
       "      <th>99</th>\n",
       "    </tr>\n",
       "  </thead>\n",
       "  <tbody>\n",
       "    <tr>\n",
       "      <th>0</th>\n",
       "      <td>0.643922</td>\n",
       "      <td>0.406495</td>\n",
       "      <td>0.768091</td>\n",
       "      <td>0.827456</td>\n",
       "      <td>0.375351</td>\n",
       "      <td>0.441299</td>\n",
       "      <td>0.357021</td>\n",
       "      <td>0.427143</td>\n",
       "      <td>0.953115</td>\n",
       "      <td>0.836920</td>\n",
       "      <td>0.425673</td>\n",
       "      <td>0.496715</td>\n",
       "      <td>0.413411</td>\n",
       "      <td>0.376688</td>\n",
       "      <td>0.620565</td>\n",
       "      <td>0.777828</td>\n",
       "      <td>0.009143</td>\n",
       "      <td>0.011081</td>\n",
       "      <td>0.121413</td>\n",
       "      <td>0.968677</td>\n",
       "      <td>0.841048</td>\n",
       "      <td>0.798765</td>\n",
       "      <td>0.407379</td>\n",
       "      <td>0.109702</td>\n",
       "      <td>0.294977</td>\n",
       "      <td>0.074615</td>\n",
       "      <td>0.613099</td>\n",
       "      <td>0.902759</td>\n",
       "      <td>0.326078</td>\n",
       "      <td>0.762535</td>\n",
       "      <td>0.963855</td>\n",
       "      <td>0.636146</td>\n",
       "      <td>0.273927</td>\n",
       "      <td>0.157968</td>\n",
       "      <td>0.878545</td>\n",
       "      <td>0.620970</td>\n",
       "      <td>0.908954</td>\n",
       "      <td>0.774619</td>\n",
       "      <td>0.873769</td>\n",
       "      <td>0.985420</td>\n",
       "      <td>0.729114</td>\n",
       "      <td>0.192622</td>\n",
       "      <td>0.944867</td>\n",
       "      <td>0.525507</td>\n",
       "      <td>0.185602</td>\n",
       "      <td>0.706909</td>\n",
       "      <td>0.085511</td>\n",
       "      <td>0.130098</td>\n",
       "      <td>0.415063</td>\n",
       "      <td>0.000856</td>\n",
       "      <td>0.988707</td>\n",
       "      <td>0.253350</td>\n",
       "      <td>0.118799</td>\n",
       "      <td>0.068250</td>\n",
       "      <td>0.155678</td>\n",
       "      <td>0.509284</td>\n",
       "      <td>0.598306</td>\n",
       "      <td>0.208182</td>\n",
       "      <td>0.204673</td>\n",
       "      <td>0.512484</td>\n",
       "      <td>0.777970</td>\n",
       "      <td>0.538131</td>\n",
       "      <td>0.864877</td>\n",
       "      <td>0.356318</td>\n",
       "      <td>0.778711</td>\n",
       "      <td>0.320857</td>\n",
       "      <td>0.144026</td>\n",
       "      <td>0.881326</td>\n",
       "      <td>0.371890</td>\n",
       "      <td>0.838978</td>\n",
       "      <td>0.141676</td>\n",
       "      <td>0.895684</td>\n",
       "      <td>0.896499</td>\n",
       "      <td>0.975226</td>\n",
       "      <td>0.124143</td>\n",
       "      <td>0.975431</td>\n",
       "      <td>0.720021</td>\n",
       "      <td>0.811860</td>\n",
       "      <td>0.533208</td>\n",
       "      <td>0.395370</td>\n",
       "      <td>0.466463</td>\n",
       "      <td>0.475385</td>\n",
       "      <td>0.931976</td>\n",
       "      <td>0.573965</td>\n",
       "      <td>0.851842</td>\n",
       "      <td>0.973617</td>\n",
       "      <td>0.113473</td>\n",
       "      <td>0.863360</td>\n",
       "      <td>0.523547</td>\n",
       "      <td>0.300478</td>\n",
       "      <td>0.924823</td>\n",
       "      <td>0.328691</td>\n",
       "      <td>0.452695</td>\n",
       "      <td>0.647540</td>\n",
       "      <td>0.474907</td>\n",
       "      <td>0.611950</td>\n",
       "      <td>0.397230</td>\n",
       "      <td>0.015335</td>\n",
       "      <td>0.187120</td>\n",
       "      <td>0.588101</td>\n",
       "    </tr>\n",
       "    <tr>\n",
       "      <th>1</th>\n",
       "      <td>0.459184</td>\n",
       "      <td>0.691137</td>\n",
       "      <td>0.109199</td>\n",
       "      <td>0.424105</td>\n",
       "      <td>0.477531</td>\n",
       "      <td>0.342865</td>\n",
       "      <td>0.599161</td>\n",
       "      <td>0.775097</td>\n",
       "      <td>0.168120</td>\n",
       "      <td>0.095570</td>\n",
       "      <td>0.472373</td>\n",
       "      <td>0.771340</td>\n",
       "      <td>0.740423</td>\n",
       "      <td>0.971063</td>\n",
       "      <td>0.204600</td>\n",
       "      <td>0.200070</td>\n",
       "      <td>0.354061</td>\n",
       "      <td>0.640974</td>\n",
       "      <td>0.766024</td>\n",
       "      <td>0.341449</td>\n",
       "      <td>0.716500</td>\n",
       "      <td>0.284101</td>\n",
       "      <td>0.497977</td>\n",
       "      <td>0.414689</td>\n",
       "      <td>0.968464</td>\n",
       "      <td>0.784113</td>\n",
       "      <td>0.429164</td>\n",
       "      <td>0.828664</td>\n",
       "      <td>0.142604</td>\n",
       "      <td>0.491521</td>\n",
       "      <td>0.561241</td>\n",
       "      <td>0.485690</td>\n",
       "      <td>0.262527</td>\n",
       "      <td>0.561330</td>\n",
       "      <td>0.308733</td>\n",
       "      <td>0.069130</td>\n",
       "      <td>0.330997</td>\n",
       "      <td>0.470865</td>\n",
       "      <td>0.120650</td>\n",
       "      <td>0.560311</td>\n",
       "      <td>0.844184</td>\n",
       "      <td>0.576078</td>\n",
       "      <td>0.751663</td>\n",
       "      <td>0.015523</td>\n",
       "      <td>0.100736</td>\n",
       "      <td>0.489148</td>\n",
       "      <td>0.982769</td>\n",
       "      <td>0.884616</td>\n",
       "      <td>0.477452</td>\n",
       "      <td>0.819828</td>\n",
       "      <td>0.474865</td>\n",
       "      <td>0.423696</td>\n",
       "      <td>0.374958</td>\n",
       "      <td>0.800076</td>\n",
       "      <td>0.139316</td>\n",
       "      <td>0.389716</td>\n",
       "      <td>0.345226</td>\n",
       "      <td>0.508374</td>\n",
       "      <td>0.753690</td>\n",
       "      <td>0.171217</td>\n",
       "      <td>0.557635</td>\n",
       "      <td>0.434306</td>\n",
       "      <td>0.051729</td>\n",
       "      <td>0.855949</td>\n",
       "      <td>0.890835</td>\n",
       "      <td>0.312814</td>\n",
       "      <td>0.285499</td>\n",
       "      <td>0.240663</td>\n",
       "      <td>0.601322</td>\n",
       "      <td>0.388028</td>\n",
       "      <td>0.383541</td>\n",
       "      <td>0.556913</td>\n",
       "      <td>0.156364</td>\n",
       "      <td>0.930730</td>\n",
       "      <td>0.363188</td>\n",
       "      <td>0.514229</td>\n",
       "      <td>0.679324</td>\n",
       "      <td>0.382753</td>\n",
       "      <td>0.300092</td>\n",
       "      <td>0.298982</td>\n",
       "      <td>0.915696</td>\n",
       "      <td>0.190070</td>\n",
       "      <td>0.065108</td>\n",
       "      <td>0.363754</td>\n",
       "      <td>0.031670</td>\n",
       "      <td>0.395073</td>\n",
       "      <td>0.004909</td>\n",
       "      <td>0.562352</td>\n",
       "      <td>0.083405</td>\n",
       "      <td>0.885717</td>\n",
       "      <td>0.531211</td>\n",
       "      <td>0.469907</td>\n",
       "      <td>0.021740</td>\n",
       "      <td>0.311523</td>\n",
       "      <td>0.342209</td>\n",
       "      <td>0.615499</td>\n",
       "      <td>0.022378</td>\n",
       "      <td>0.453659</td>\n",
       "      <td>0.763322</td>\n",
       "      <td>0.785673</td>\n",
       "    </tr>\n",
       "    <tr>\n",
       "      <th>2</th>\n",
       "      <td>0.614662</td>\n",
       "      <td>0.375019</td>\n",
       "      <td>0.429197</td>\n",
       "      <td>0.362987</td>\n",
       "      <td>0.697312</td>\n",
       "      <td>0.114749</td>\n",
       "      <td>0.898591</td>\n",
       "      <td>0.070021</td>\n",
       "      <td>0.875001</td>\n",
       "      <td>0.691731</td>\n",
       "      <td>0.963583</td>\n",
       "      <td>0.892182</td>\n",
       "      <td>0.581788</td>\n",
       "      <td>0.704416</td>\n",
       "      <td>0.632751</td>\n",
       "      <td>0.693140</td>\n",
       "      <td>0.173518</td>\n",
       "      <td>0.641309</td>\n",
       "      <td>0.229931</td>\n",
       "      <td>0.042655</td>\n",
       "      <td>0.055823</td>\n",
       "      <td>0.431570</td>\n",
       "      <td>0.017272</td>\n",
       "      <td>0.816746</td>\n",
       "      <td>0.235548</td>\n",
       "      <td>0.640845</td>\n",
       "      <td>0.714350</td>\n",
       "      <td>0.393939</td>\n",
       "      <td>0.736512</td>\n",
       "      <td>0.896421</td>\n",
       "      <td>0.838074</td>\n",
       "      <td>0.276378</td>\n",
       "      <td>0.197314</td>\n",
       "      <td>0.527279</td>\n",
       "      <td>0.288963</td>\n",
       "      <td>0.894030</td>\n",
       "      <td>0.395224</td>\n",
       "      <td>0.873747</td>\n",
       "      <td>0.620171</td>\n",
       "      <td>0.519485</td>\n",
       "      <td>0.888235</td>\n",
       "      <td>0.179672</td>\n",
       "      <td>0.287926</td>\n",
       "      <td>0.668181</td>\n",
       "      <td>0.413070</td>\n",
       "      <td>0.936173</td>\n",
       "      <td>0.915568</td>\n",
       "      <td>0.332372</td>\n",
       "      <td>0.113485</td>\n",
       "      <td>0.041270</td>\n",
       "      <td>0.636205</td>\n",
       "      <td>0.022553</td>\n",
       "      <td>0.792710</td>\n",
       "      <td>0.080358</td>\n",
       "      <td>0.769556</td>\n",
       "      <td>0.585719</td>\n",
       "      <td>0.692709</td>\n",
       "      <td>0.472287</td>\n",
       "      <td>0.788365</td>\n",
       "      <td>0.929010</td>\n",
       "      <td>0.045187</td>\n",
       "      <td>0.444184</td>\n",
       "      <td>0.738120</td>\n",
       "      <td>0.552693</td>\n",
       "      <td>0.374343</td>\n",
       "      <td>0.279351</td>\n",
       "      <td>0.654335</td>\n",
       "      <td>0.901300</td>\n",
       "      <td>0.090655</td>\n",
       "      <td>0.164813</td>\n",
       "      <td>0.915889</td>\n",
       "      <td>0.296486</td>\n",
       "      <td>0.174448</td>\n",
       "      <td>0.855637</td>\n",
       "      <td>0.359908</td>\n",
       "      <td>0.743609</td>\n",
       "      <td>0.804891</td>\n",
       "      <td>0.238405</td>\n",
       "      <td>0.614967</td>\n",
       "      <td>0.424452</td>\n",
       "      <td>0.678636</td>\n",
       "      <td>0.504339</td>\n",
       "      <td>0.792747</td>\n",
       "      <td>0.691772</td>\n",
       "      <td>0.636830</td>\n",
       "      <td>0.413405</td>\n",
       "      <td>0.931239</td>\n",
       "      <td>0.191181</td>\n",
       "      <td>0.420947</td>\n",
       "      <td>0.542440</td>\n",
       "      <td>0.415905</td>\n",
       "      <td>0.183959</td>\n",
       "      <td>0.009146</td>\n",
       "      <td>0.965081</td>\n",
       "      <td>0.460755</td>\n",
       "      <td>0.618230</td>\n",
       "      <td>0.974766</td>\n",
       "      <td>0.097237</td>\n",
       "      <td>0.196317</td>\n",
       "      <td>0.690642</td>\n",
       "    </tr>\n",
       "    <tr>\n",
       "      <th>3</th>\n",
       "      <td>0.121082</td>\n",
       "      <td>0.212826</td>\n",
       "      <td>0.240101</td>\n",
       "      <td>0.597862</td>\n",
       "      <td>0.244645</td>\n",
       "      <td>0.765512</td>\n",
       "      <td>0.761411</td>\n",
       "      <td>0.063018</td>\n",
       "      <td>0.384224</td>\n",
       "      <td>0.365297</td>\n",
       "      <td>0.004145</td>\n",
       "      <td>0.291207</td>\n",
       "      <td>0.548535</td>\n",
       "      <td>0.492832</td>\n",
       "      <td>0.190693</td>\n",
       "      <td>0.594236</td>\n",
       "      <td>0.278526</td>\n",
       "      <td>0.558755</td>\n",
       "      <td>0.415556</td>\n",
       "      <td>0.378820</td>\n",
       "      <td>0.748527</td>\n",
       "      <td>0.897922</td>\n",
       "      <td>0.597823</td>\n",
       "      <td>0.606870</td>\n",
       "      <td>0.219639</td>\n",
       "      <td>0.391225</td>\n",
       "      <td>0.984674</td>\n",
       "      <td>0.012118</td>\n",
       "      <td>0.657554</td>\n",
       "      <td>0.859413</td>\n",
       "      <td>0.297078</td>\n",
       "      <td>0.884288</td>\n",
       "      <td>0.332330</td>\n",
       "      <td>0.519523</td>\n",
       "      <td>0.955990</td>\n",
       "      <td>0.034365</td>\n",
       "      <td>0.880880</td>\n",
       "      <td>0.695227</td>\n",
       "      <td>0.090108</td>\n",
       "      <td>0.905250</td>\n",
       "      <td>0.622922</td>\n",
       "      <td>0.021629</td>\n",
       "      <td>0.855427</td>\n",
       "      <td>0.408925</td>\n",
       "      <td>0.692249</td>\n",
       "      <td>0.795905</td>\n",
       "      <td>0.076073</td>\n",
       "      <td>0.360040</td>\n",
       "      <td>0.744574</td>\n",
       "      <td>0.727704</td>\n",
       "      <td>0.849569</td>\n",
       "      <td>0.557878</td>\n",
       "      <td>0.143991</td>\n",
       "      <td>0.918917</td>\n",
       "      <td>0.762466</td>\n",
       "      <td>0.321734</td>\n",
       "      <td>0.728866</td>\n",
       "      <td>0.834429</td>\n",
       "      <td>0.582642</td>\n",
       "      <td>0.932724</td>\n",
       "      <td>0.846642</td>\n",
       "      <td>0.453784</td>\n",
       "      <td>0.438060</td>\n",
       "      <td>0.796220</td>\n",
       "      <td>0.949070</td>\n",
       "      <td>0.615866</td>\n",
       "      <td>0.300040</td>\n",
       "      <td>0.153547</td>\n",
       "      <td>0.253677</td>\n",
       "      <td>0.806384</td>\n",
       "      <td>0.442208</td>\n",
       "      <td>0.799623</td>\n",
       "      <td>0.425608</td>\n",
       "      <td>0.845719</td>\n",
       "      <td>0.168133</td>\n",
       "      <td>0.222194</td>\n",
       "      <td>0.958871</td>\n",
       "      <td>0.552785</td>\n",
       "      <td>0.810187</td>\n",
       "      <td>0.646865</td>\n",
       "      <td>0.625707</td>\n",
       "      <td>0.082189</td>\n",
       "      <td>0.963445</td>\n",
       "      <td>0.240594</td>\n",
       "      <td>0.405319</td>\n",
       "      <td>0.593407</td>\n",
       "      <td>0.553092</td>\n",
       "      <td>0.189795</td>\n",
       "      <td>0.489676</td>\n",
       "      <td>0.356104</td>\n",
       "      <td>0.189732</td>\n",
       "      <td>0.234370</td>\n",
       "      <td>0.734763</td>\n",
       "      <td>0.331095</td>\n",
       "      <td>0.795102</td>\n",
       "      <td>0.720697</td>\n",
       "      <td>0.202959</td>\n",
       "      <td>0.279589</td>\n",
       "      <td>0.463243</td>\n",
       "      <td>0.427213</td>\n",
       "    </tr>\n",
       "    <tr>\n",
       "      <th>4</th>\n",
       "      <td>0.405394</td>\n",
       "      <td>0.761809</td>\n",
       "      <td>0.918316</td>\n",
       "      <td>0.327007</td>\n",
       "      <td>0.744595</td>\n",
       "      <td>0.453150</td>\n",
       "      <td>0.710927</td>\n",
       "      <td>0.738697</td>\n",
       "      <td>0.375013</td>\n",
       "      <td>0.451360</td>\n",
       "      <td>0.836686</td>\n",
       "      <td>0.297655</td>\n",
       "      <td>0.780544</td>\n",
       "      <td>0.491029</td>\n",
       "      <td>0.485218</td>\n",
       "      <td>0.637508</td>\n",
       "      <td>0.551828</td>\n",
       "      <td>0.052865</td>\n",
       "      <td>0.313814</td>\n",
       "      <td>0.741621</td>\n",
       "      <td>0.048509</td>\n",
       "      <td>0.912344</td>\n",
       "      <td>0.051517</td>\n",
       "      <td>0.599111</td>\n",
       "      <td>0.677366</td>\n",
       "      <td>0.755416</td>\n",
       "      <td>0.659430</td>\n",
       "      <td>0.653337</td>\n",
       "      <td>0.011400</td>\n",
       "      <td>0.939193</td>\n",
       "      <td>0.429581</td>\n",
       "      <td>0.104602</td>\n",
       "      <td>0.720239</td>\n",
       "      <td>0.864500</td>\n",
       "      <td>0.606135</td>\n",
       "      <td>0.843505</td>\n",
       "      <td>0.616343</td>\n",
       "      <td>0.178322</td>\n",
       "      <td>0.913244</td>\n",
       "      <td>0.515471</td>\n",
       "      <td>0.237372</td>\n",
       "      <td>0.069047</td>\n",
       "      <td>0.449189</td>\n",
       "      <td>0.867200</td>\n",
       "      <td>0.555141</td>\n",
       "      <td>0.002557</td>\n",
       "      <td>0.684676</td>\n",
       "      <td>0.921205</td>\n",
       "      <td>0.525043</td>\n",
       "      <td>0.155892</td>\n",
       "      <td>0.310693</td>\n",
       "      <td>0.064383</td>\n",
       "      <td>0.682644</td>\n",
       "      <td>0.223449</td>\n",
       "      <td>0.371640</td>\n",
       "      <td>0.432937</td>\n",
       "      <td>0.287986</td>\n",
       "      <td>0.011582</td>\n",
       "      <td>0.067910</td>\n",
       "      <td>0.611299</td>\n",
       "      <td>0.204166</td>\n",
       "      <td>0.031661</td>\n",
       "      <td>0.231928</td>\n",
       "      <td>0.708137</td>\n",
       "      <td>0.489565</td>\n",
       "      <td>0.487148</td>\n",
       "      <td>0.078329</td>\n",
       "      <td>0.855558</td>\n",
       "      <td>0.267313</td>\n",
       "      <td>0.007178</td>\n",
       "      <td>0.315864</td>\n",
       "      <td>0.427260</td>\n",
       "      <td>0.716236</td>\n",
       "      <td>0.882677</td>\n",
       "      <td>0.192563</td>\n",
       "      <td>0.070186</td>\n",
       "      <td>0.511760</td>\n",
       "      <td>0.468384</td>\n",
       "      <td>0.984783</td>\n",
       "      <td>0.114578</td>\n",
       "      <td>0.638638</td>\n",
       "      <td>0.550163</td>\n",
       "      <td>0.986406</td>\n",
       "      <td>0.699950</td>\n",
       "      <td>0.659147</td>\n",
       "      <td>0.482383</td>\n",
       "      <td>0.074368</td>\n",
       "      <td>0.759969</td>\n",
       "      <td>0.929551</td>\n",
       "      <td>0.280776</td>\n",
       "      <td>0.632832</td>\n",
       "      <td>0.263216</td>\n",
       "      <td>0.467069</td>\n",
       "      <td>0.724657</td>\n",
       "      <td>0.972695</td>\n",
       "      <td>0.379075</td>\n",
       "      <td>0.633286</td>\n",
       "      <td>0.047870</td>\n",
       "      <td>0.947148</td>\n",
       "      <td>0.462618</td>\n",
       "    </tr>\n",
       "  </tbody>\n",
       "</table>\n",
       "</div>"
      ],
      "text/plain": [
       "         0         1         2         3         4         5         6         7         8         9         10        11        12        13        14        15        16        17        18        19        20        21        22        23        24        25        26        27        28        29        30        31        32        33        34        35        36        37        38        39        40        41        42        43        44        45        46        47        48        49        50        51        52        53        54        55        56        57        58        59        60        61        62        63        64        65        66        67        68        69        70        71        72        73        74        75        76        77        78        79        80        81        82        83        84        85        86        87        88        89        90        91        92        93        94        95        96        97        98  \\\n",
       "0  0.643922  0.406495  0.768091  0.827456  0.375351  0.441299  0.357021  0.427143  0.953115  0.836920  0.425673  0.496715  0.413411  0.376688  0.620565  0.777828  0.009143  0.011081  0.121413  0.968677  0.841048  0.798765  0.407379  0.109702  0.294977  0.074615  0.613099  0.902759  0.326078  0.762535  0.963855  0.636146  0.273927  0.157968  0.878545  0.620970  0.908954  0.774619  0.873769  0.985420  0.729114  0.192622  0.944867  0.525507  0.185602  0.706909  0.085511  0.130098  0.415063  0.000856  0.988707  0.253350  0.118799  0.068250  0.155678  0.509284  0.598306  0.208182  0.204673  0.512484  0.777970  0.538131  0.864877  0.356318  0.778711  0.320857  0.144026  0.881326  0.371890  0.838978  0.141676  0.895684  0.896499  0.975226  0.124143  0.975431  0.720021  0.811860  0.533208  0.395370  0.466463  0.475385  0.931976  0.573965  0.851842  0.973617  0.113473  0.863360  0.523547  0.300478  0.924823  0.328691  0.452695  0.647540  0.474907  0.611950  0.397230  0.015335  0.187120   \n",
       "1  0.459184  0.691137  0.109199  0.424105  0.477531  0.342865  0.599161  0.775097  0.168120  0.095570  0.472373  0.771340  0.740423  0.971063  0.204600  0.200070  0.354061  0.640974  0.766024  0.341449  0.716500  0.284101  0.497977  0.414689  0.968464  0.784113  0.429164  0.828664  0.142604  0.491521  0.561241  0.485690  0.262527  0.561330  0.308733  0.069130  0.330997  0.470865  0.120650  0.560311  0.844184  0.576078  0.751663  0.015523  0.100736  0.489148  0.982769  0.884616  0.477452  0.819828  0.474865  0.423696  0.374958  0.800076  0.139316  0.389716  0.345226  0.508374  0.753690  0.171217  0.557635  0.434306  0.051729  0.855949  0.890835  0.312814  0.285499  0.240663  0.601322  0.388028  0.383541  0.556913  0.156364  0.930730  0.363188  0.514229  0.679324  0.382753  0.300092  0.298982  0.915696  0.190070  0.065108  0.363754  0.031670  0.395073  0.004909  0.562352  0.083405  0.885717  0.531211  0.469907  0.021740  0.311523  0.342209  0.615499  0.022378  0.453659  0.763322   \n",
       "2  0.614662  0.375019  0.429197  0.362987  0.697312  0.114749  0.898591  0.070021  0.875001  0.691731  0.963583  0.892182  0.581788  0.704416  0.632751  0.693140  0.173518  0.641309  0.229931  0.042655  0.055823  0.431570  0.017272  0.816746  0.235548  0.640845  0.714350  0.393939  0.736512  0.896421  0.838074  0.276378  0.197314  0.527279  0.288963  0.894030  0.395224  0.873747  0.620171  0.519485  0.888235  0.179672  0.287926  0.668181  0.413070  0.936173  0.915568  0.332372  0.113485  0.041270  0.636205  0.022553  0.792710  0.080358  0.769556  0.585719  0.692709  0.472287  0.788365  0.929010  0.045187  0.444184  0.738120  0.552693  0.374343  0.279351  0.654335  0.901300  0.090655  0.164813  0.915889  0.296486  0.174448  0.855637  0.359908  0.743609  0.804891  0.238405  0.614967  0.424452  0.678636  0.504339  0.792747  0.691772  0.636830  0.413405  0.931239  0.191181  0.420947  0.542440  0.415905  0.183959  0.009146  0.965081  0.460755  0.618230  0.974766  0.097237  0.196317   \n",
       "3  0.121082  0.212826  0.240101  0.597862  0.244645  0.765512  0.761411  0.063018  0.384224  0.365297  0.004145  0.291207  0.548535  0.492832  0.190693  0.594236  0.278526  0.558755  0.415556  0.378820  0.748527  0.897922  0.597823  0.606870  0.219639  0.391225  0.984674  0.012118  0.657554  0.859413  0.297078  0.884288  0.332330  0.519523  0.955990  0.034365  0.880880  0.695227  0.090108  0.905250  0.622922  0.021629  0.855427  0.408925  0.692249  0.795905  0.076073  0.360040  0.744574  0.727704  0.849569  0.557878  0.143991  0.918917  0.762466  0.321734  0.728866  0.834429  0.582642  0.932724  0.846642  0.453784  0.438060  0.796220  0.949070  0.615866  0.300040  0.153547  0.253677  0.806384  0.442208  0.799623  0.425608  0.845719  0.168133  0.222194  0.958871  0.552785  0.810187  0.646865  0.625707  0.082189  0.963445  0.240594  0.405319  0.593407  0.553092  0.189795  0.489676  0.356104  0.189732  0.234370  0.734763  0.331095  0.795102  0.720697  0.202959  0.279589  0.463243   \n",
       "4  0.405394  0.761809  0.918316  0.327007  0.744595  0.453150  0.710927  0.738697  0.375013  0.451360  0.836686  0.297655  0.780544  0.491029  0.485218  0.637508  0.551828  0.052865  0.313814  0.741621  0.048509  0.912344  0.051517  0.599111  0.677366  0.755416  0.659430  0.653337  0.011400  0.939193  0.429581  0.104602  0.720239  0.864500  0.606135  0.843505  0.616343  0.178322  0.913244  0.515471  0.237372  0.069047  0.449189  0.867200  0.555141  0.002557  0.684676  0.921205  0.525043  0.155892  0.310693  0.064383  0.682644  0.223449  0.371640  0.432937  0.287986  0.011582  0.067910  0.611299  0.204166  0.031661  0.231928  0.708137  0.489565  0.487148  0.078329  0.855558  0.267313  0.007178  0.315864  0.427260  0.716236  0.882677  0.192563  0.070186  0.511760  0.468384  0.984783  0.114578  0.638638  0.550163  0.986406  0.699950  0.659147  0.482383  0.074368  0.759969  0.929551  0.280776  0.632832  0.263216  0.467069  0.724657  0.972695  0.379075  0.633286  0.047870  0.947148   \n",
       "\n",
       "         99  \n",
       "0  0.588101  \n",
       "1  0.785673  \n",
       "2  0.690642  \n",
       "3  0.427213  \n",
       "4  0.462618  "
      ]
     },
     "metadata": {},
     "output_type": "display_data"
    }
   ],
   "source": [
    "# Numpy array to cuDF\n",
    "# Dataframe Operations : Create random large array\n",
    "a = np.random.rand(100,100)\n",
    "df = cudf.DataFrame()\n",
    "df = df.from_records(a)\n",
    "#df['random_column1'] = [0, 1, 2, 3, 4]\n",
    "pgdf(df.head())"
   ]
  },
  {
   "cell_type": "code",
   "execution_count": 10,
   "metadata": {
    "ExecuteTime": {
     "end_time": "2019-09-23T10:49:18.318810Z",
     "start_time": "2019-09-23T10:49:18.316423Z"
    }
   },
   "outputs": [],
   "source": [
    "# pdf = pd.DataFrame({'a': [0, 1, 2, 3],'b': [0.1, 0.2, None, 0.3]})\n",
    "# df = cudf.from_pandas(pdf)\n",
    "# pgdf(df)"
   ]
  },
  {
   "cell_type": "markdown",
   "metadata": {},
   "source": [
    "### Dataframe Operations : Slice  Example - grab 3 arbitrary columns\n",
    "\n",
    "Sometimes you want to grab slices of dataframes.  Here you can just pass a list of column names to the GPU dataframe to return the columns you want."
   ]
  },
  {
   "cell_type": "code",
   "execution_count": 16,
   "metadata": {
    "ExecuteTime": {
     "end_time": "2019-09-23T10:50:48.090837Z",
     "start_time": "2019-09-23T10:50:48.060083Z"
    }
   },
   "outputs": [
    {
     "data": {
      "text/html": [
       "<div>\n",
       "<style scoped>\n",
       "    .dataframe tbody tr th:only-of-type {\n",
       "        vertical-align: middle;\n",
       "    }\n",
       "\n",
       "    .dataframe tbody tr th {\n",
       "        vertical-align: top;\n",
       "    }\n",
       "\n",
       "    .dataframe thead th {\n",
       "        text-align: right;\n",
       "    }\n",
       "</style>\n",
       "<table border=\"1\" class=\"dataframe\">\n",
       "  <thead>\n",
       "    <tr style=\"text-align: right;\">\n",
       "      <th></th>\n",
       "      <th>0</th>\n",
       "      <th>1</th>\n",
       "      <th>5</th>\n",
       "    </tr>\n",
       "  </thead>\n",
       "  <tbody>\n",
       "    <tr>\n",
       "      <th>0</th>\n",
       "      <td>0.643922</td>\n",
       "      <td>0.406495</td>\n",
       "      <td>0.441299</td>\n",
       "    </tr>\n",
       "    <tr>\n",
       "      <th>1</th>\n",
       "      <td>0.459184</td>\n",
       "      <td>0.691137</td>\n",
       "      <td>0.342865</td>\n",
       "    </tr>\n",
       "    <tr>\n",
       "      <th>2</th>\n",
       "      <td>0.614662</td>\n",
       "      <td>0.375019</td>\n",
       "      <td>0.114749</td>\n",
       "    </tr>\n",
       "    <tr>\n",
       "      <th>3</th>\n",
       "      <td>0.121082</td>\n",
       "      <td>0.212826</td>\n",
       "      <td>0.765512</td>\n",
       "    </tr>\n",
       "    <tr>\n",
       "      <th>4</th>\n",
       "      <td>0.405394</td>\n",
       "      <td>0.761809</td>\n",
       "      <td>0.453150</td>\n",
       "    </tr>\n",
       "    <tr>\n",
       "      <th>5</th>\n",
       "      <td>0.548662</td>\n",
       "      <td>0.903565</td>\n",
       "      <td>0.944342</td>\n",
       "    </tr>\n",
       "    <tr>\n",
       "      <th>6</th>\n",
       "      <td>0.816397</td>\n",
       "      <td>0.912059</td>\n",
       "      <td>0.511260</td>\n",
       "    </tr>\n",
       "    <tr>\n",
       "      <th>7</th>\n",
       "      <td>0.779689</td>\n",
       "      <td>0.476548</td>\n",
       "      <td>0.284231</td>\n",
       "    </tr>\n",
       "    <tr>\n",
       "      <th>8</th>\n",
       "      <td>0.938475</td>\n",
       "      <td>0.334942</td>\n",
       "      <td>0.977050</td>\n",
       "    </tr>\n",
       "    <tr>\n",
       "      <th>9</th>\n",
       "      <td>0.374091</td>\n",
       "      <td>0.550647</td>\n",
       "      <td>0.454439</td>\n",
       "    </tr>\n",
       "    <tr>\n",
       "      <th>10</th>\n",
       "      <td>0.333395</td>\n",
       "      <td>0.528941</td>\n",
       "      <td>0.745814</td>\n",
       "    </tr>\n",
       "    <tr>\n",
       "      <th>11</th>\n",
       "      <td>0.615618</td>\n",
       "      <td>0.712531</td>\n",
       "      <td>0.496402</td>\n",
       "    </tr>\n",
       "    <tr>\n",
       "      <th>12</th>\n",
       "      <td>0.995753</td>\n",
       "      <td>0.579690</td>\n",
       "      <td>0.703644</td>\n",
       "    </tr>\n",
       "    <tr>\n",
       "      <th>13</th>\n",
       "      <td>0.796478</td>\n",
       "      <td>0.405307</td>\n",
       "      <td>0.411211</td>\n",
       "    </tr>\n",
       "    <tr>\n",
       "      <th>14</th>\n",
       "      <td>0.511158</td>\n",
       "      <td>0.494117</td>\n",
       "      <td>0.835629</td>\n",
       "    </tr>\n",
       "    <tr>\n",
       "      <th>15</th>\n",
       "      <td>0.901813</td>\n",
       "      <td>0.547628</td>\n",
       "      <td>0.226536</td>\n",
       "    </tr>\n",
       "    <tr>\n",
       "      <th>16</th>\n",
       "      <td>0.534819</td>\n",
       "      <td>0.432338</td>\n",
       "      <td>0.360688</td>\n",
       "    </tr>\n",
       "    <tr>\n",
       "      <th>17</th>\n",
       "      <td>0.205301</td>\n",
       "      <td>0.219365</td>\n",
       "      <td>0.605447</td>\n",
       "    </tr>\n",
       "    <tr>\n",
       "      <th>18</th>\n",
       "      <td>0.758777</td>\n",
       "      <td>0.300205</td>\n",
       "      <td>0.480069</td>\n",
       "    </tr>\n",
       "    <tr>\n",
       "      <th>19</th>\n",
       "      <td>0.225418</td>\n",
       "      <td>0.206375</td>\n",
       "      <td>0.453053</td>\n",
       "    </tr>\n",
       "    <tr>\n",
       "      <th>20</th>\n",
       "      <td>0.830380</td>\n",
       "      <td>0.394125</td>\n",
       "      <td>0.304203</td>\n",
       "    </tr>\n",
       "    <tr>\n",
       "      <th>21</th>\n",
       "      <td>0.396189</td>\n",
       "      <td>0.907389</td>\n",
       "      <td>0.783526</td>\n",
       "    </tr>\n",
       "    <tr>\n",
       "      <th>22</th>\n",
       "      <td>0.971359</td>\n",
       "      <td>0.796642</td>\n",
       "      <td>0.691562</td>\n",
       "    </tr>\n",
       "    <tr>\n",
       "      <th>23</th>\n",
       "      <td>0.378809</td>\n",
       "      <td>0.175136</td>\n",
       "      <td>0.425690</td>\n",
       "    </tr>\n",
       "    <tr>\n",
       "      <th>24</th>\n",
       "      <td>0.838382</td>\n",
       "      <td>0.643633</td>\n",
       "      <td>0.593713</td>\n",
       "    </tr>\n",
       "    <tr>\n",
       "      <th>25</th>\n",
       "      <td>0.658383</td>\n",
       "      <td>0.432599</td>\n",
       "      <td>0.867673</td>\n",
       "    </tr>\n",
       "    <tr>\n",
       "      <th>26</th>\n",
       "      <td>0.282028</td>\n",
       "      <td>0.502101</td>\n",
       "      <td>0.525212</td>\n",
       "    </tr>\n",
       "    <tr>\n",
       "      <th>27</th>\n",
       "      <td>0.493538</td>\n",
       "      <td>0.648186</td>\n",
       "      <td>0.176517</td>\n",
       "    </tr>\n",
       "    <tr>\n",
       "      <th>28</th>\n",
       "      <td>0.292028</td>\n",
       "      <td>0.793261</td>\n",
       "      <td>0.199788</td>\n",
       "    </tr>\n",
       "    <tr>\n",
       "      <th>29</th>\n",
       "      <td>0.744795</td>\n",
       "      <td>0.843941</td>\n",
       "      <td>0.564335</td>\n",
       "    </tr>\n",
       "    <tr>\n",
       "      <th>30</th>\n",
       "      <td>0.415470</td>\n",
       "      <td>0.177052</td>\n",
       "      <td>0.715220</td>\n",
       "    </tr>\n",
       "    <tr>\n",
       "      <th>31</th>\n",
       "      <td>0.854497</td>\n",
       "      <td>0.710051</td>\n",
       "      <td>0.777725</td>\n",
       "    </tr>\n",
       "    <tr>\n",
       "      <th>32</th>\n",
       "      <td>0.931247</td>\n",
       "      <td>0.418154</td>\n",
       "      <td>0.940972</td>\n",
       "    </tr>\n",
       "    <tr>\n",
       "      <th>33</th>\n",
       "      <td>0.561089</td>\n",
       "      <td>0.706533</td>\n",
       "      <td>0.164914</td>\n",
       "    </tr>\n",
       "    <tr>\n",
       "      <th>34</th>\n",
       "      <td>0.041075</td>\n",
       "      <td>0.345874</td>\n",
       "      <td>0.916146</td>\n",
       "    </tr>\n",
       "    <tr>\n",
       "      <th>35</th>\n",
       "      <td>0.565444</td>\n",
       "      <td>0.624143</td>\n",
       "      <td>0.702975</td>\n",
       "    </tr>\n",
       "    <tr>\n",
       "      <th>36</th>\n",
       "      <td>0.887639</td>\n",
       "      <td>0.516664</td>\n",
       "      <td>0.106308</td>\n",
       "    </tr>\n",
       "    <tr>\n",
       "      <th>37</th>\n",
       "      <td>0.912553</td>\n",
       "      <td>0.596887</td>\n",
       "      <td>0.968702</td>\n",
       "    </tr>\n",
       "    <tr>\n",
       "      <th>38</th>\n",
       "      <td>0.082610</td>\n",
       "      <td>0.707203</td>\n",
       "      <td>0.614489</td>\n",
       "    </tr>\n",
       "    <tr>\n",
       "      <th>39</th>\n",
       "      <td>0.256662</td>\n",
       "      <td>0.780537</td>\n",
       "      <td>0.902091</td>\n",
       "    </tr>\n",
       "    <tr>\n",
       "      <th>40</th>\n",
       "      <td>0.987353</td>\n",
       "      <td>0.001752</td>\n",
       "      <td>0.977011</td>\n",
       "    </tr>\n",
       "    <tr>\n",
       "      <th>41</th>\n",
       "      <td>0.846659</td>\n",
       "      <td>0.780027</td>\n",
       "      <td>0.138854</td>\n",
       "    </tr>\n",
       "    <tr>\n",
       "      <th>42</th>\n",
       "      <td>0.807426</td>\n",
       "      <td>0.867281</td>\n",
       "      <td>0.169907</td>\n",
       "    </tr>\n",
       "    <tr>\n",
       "      <th>43</th>\n",
       "      <td>0.455611</td>\n",
       "      <td>0.274589</td>\n",
       "      <td>0.675226</td>\n",
       "    </tr>\n",
       "    <tr>\n",
       "      <th>44</th>\n",
       "      <td>0.430785</td>\n",
       "      <td>0.309773</td>\n",
       "      <td>0.400091</td>\n",
       "    </tr>\n",
       "    <tr>\n",
       "      <th>45</th>\n",
       "      <td>0.354152</td>\n",
       "      <td>0.086307</td>\n",
       "      <td>0.097303</td>\n",
       "    </tr>\n",
       "    <tr>\n",
       "      <th>46</th>\n",
       "      <td>0.825487</td>\n",
       "      <td>0.570013</td>\n",
       "      <td>0.460168</td>\n",
       "    </tr>\n",
       "    <tr>\n",
       "      <th>47</th>\n",
       "      <td>0.452128</td>\n",
       "      <td>0.293641</td>\n",
       "      <td>0.420109</td>\n",
       "    </tr>\n",
       "    <tr>\n",
       "      <th>48</th>\n",
       "      <td>0.996053</td>\n",
       "      <td>0.213747</td>\n",
       "      <td>0.651840</td>\n",
       "    </tr>\n",
       "    <tr>\n",
       "      <th>49</th>\n",
       "      <td>0.869391</td>\n",
       "      <td>0.736574</td>\n",
       "      <td>0.776414</td>\n",
       "    </tr>\n",
       "    <tr>\n",
       "      <th>50</th>\n",
       "      <td>0.983386</td>\n",
       "      <td>0.884167</td>\n",
       "      <td>0.545683</td>\n",
       "    </tr>\n",
       "    <tr>\n",
       "      <th>51</th>\n",
       "      <td>0.612463</td>\n",
       "      <td>0.223231</td>\n",
       "      <td>0.590618</td>\n",
       "    </tr>\n",
       "    <tr>\n",
       "      <th>52</th>\n",
       "      <td>0.376590</td>\n",
       "      <td>0.307888</td>\n",
       "      <td>0.476200</td>\n",
       "    </tr>\n",
       "    <tr>\n",
       "      <th>53</th>\n",
       "      <td>0.188112</td>\n",
       "      <td>0.846722</td>\n",
       "      <td>0.224511</td>\n",
       "    </tr>\n",
       "    <tr>\n",
       "      <th>54</th>\n",
       "      <td>0.111109</td>\n",
       "      <td>0.356002</td>\n",
       "      <td>0.527081</td>\n",
       "    </tr>\n",
       "    <tr>\n",
       "      <th>55</th>\n",
       "      <td>0.425009</td>\n",
       "      <td>0.211559</td>\n",
       "      <td>0.325088</td>\n",
       "    </tr>\n",
       "    <tr>\n",
       "      <th>56</th>\n",
       "      <td>0.259856</td>\n",
       "      <td>0.803464</td>\n",
       "      <td>0.055587</td>\n",
       "    </tr>\n",
       "    <tr>\n",
       "      <th>57</th>\n",
       "      <td>0.413522</td>\n",
       "      <td>0.034156</td>\n",
       "      <td>0.120142</td>\n",
       "    </tr>\n",
       "    <tr>\n",
       "      <th>58</th>\n",
       "      <td>0.345976</td>\n",
       "      <td>0.574896</td>\n",
       "      <td>0.115240</td>\n",
       "    </tr>\n",
       "    <tr>\n",
       "      <th>59</th>\n",
       "      <td>0.952517</td>\n",
       "      <td>0.197745</td>\n",
       "      <td>0.700255</td>\n",
       "    </tr>\n",
       "    <tr>\n",
       "      <th>60</th>\n",
       "      <td>0.411326</td>\n",
       "      <td>0.899417</td>\n",
       "      <td>0.994107</td>\n",
       "    </tr>\n",
       "    <tr>\n",
       "      <th>61</th>\n",
       "      <td>0.105869</td>\n",
       "      <td>0.216358</td>\n",
       "      <td>0.001654</td>\n",
       "    </tr>\n",
       "    <tr>\n",
       "      <th>62</th>\n",
       "      <td>0.359347</td>\n",
       "      <td>0.336746</td>\n",
       "      <td>0.812453</td>\n",
       "    </tr>\n",
       "    <tr>\n",
       "      <th>63</th>\n",
       "      <td>0.655565</td>\n",
       "      <td>0.468521</td>\n",
       "      <td>0.646152</td>\n",
       "    </tr>\n",
       "    <tr>\n",
       "      <th>64</th>\n",
       "      <td>0.014368</td>\n",
       "      <td>0.709583</td>\n",
       "      <td>0.299212</td>\n",
       "    </tr>\n",
       "    <tr>\n",
       "      <th>65</th>\n",
       "      <td>0.172344</td>\n",
       "      <td>0.043120</td>\n",
       "      <td>0.632848</td>\n",
       "    </tr>\n",
       "    <tr>\n",
       "      <th>66</th>\n",
       "      <td>0.068020</td>\n",
       "      <td>0.131946</td>\n",
       "      <td>0.989276</td>\n",
       "    </tr>\n",
       "    <tr>\n",
       "      <th>67</th>\n",
       "      <td>0.661519</td>\n",
       "      <td>0.056511</td>\n",
       "      <td>0.167596</td>\n",
       "    </tr>\n",
       "    <tr>\n",
       "      <th>68</th>\n",
       "      <td>0.484944</td>\n",
       "      <td>0.785457</td>\n",
       "      <td>0.242588</td>\n",
       "    </tr>\n",
       "    <tr>\n",
       "      <th>69</th>\n",
       "      <td>0.446558</td>\n",
       "      <td>0.770558</td>\n",
       "      <td>0.627822</td>\n",
       "    </tr>\n",
       "    <tr>\n",
       "      <th>70</th>\n",
       "      <td>0.353157</td>\n",
       "      <td>0.721371</td>\n",
       "      <td>0.396493</td>\n",
       "    </tr>\n",
       "    <tr>\n",
       "      <th>71</th>\n",
       "      <td>0.398110</td>\n",
       "      <td>0.215385</td>\n",
       "      <td>0.441504</td>\n",
       "    </tr>\n",
       "    <tr>\n",
       "      <th>72</th>\n",
       "      <td>0.170153</td>\n",
       "      <td>0.881843</td>\n",
       "      <td>0.605765</td>\n",
       "    </tr>\n",
       "    <tr>\n",
       "      <th>73</th>\n",
       "      <td>0.637316</td>\n",
       "      <td>0.706440</td>\n",
       "      <td>0.953095</td>\n",
       "    </tr>\n",
       "    <tr>\n",
       "      <th>74</th>\n",
       "      <td>0.234388</td>\n",
       "      <td>0.080574</td>\n",
       "      <td>0.422155</td>\n",
       "    </tr>\n",
       "    <tr>\n",
       "      <th>75</th>\n",
       "      <td>0.733198</td>\n",
       "      <td>0.927041</td>\n",
       "      <td>0.822984</td>\n",
       "    </tr>\n",
       "    <tr>\n",
       "      <th>76</th>\n",
       "      <td>0.238330</td>\n",
       "      <td>0.507965</td>\n",
       "      <td>0.062605</td>\n",
       "    </tr>\n",
       "    <tr>\n",
       "      <th>77</th>\n",
       "      <td>0.566978</td>\n",
       "      <td>0.972818</td>\n",
       "      <td>0.150036</td>\n",
       "    </tr>\n",
       "    <tr>\n",
       "      <th>78</th>\n",
       "      <td>0.624641</td>\n",
       "      <td>0.721219</td>\n",
       "      <td>0.291676</td>\n",
       "    </tr>\n",
       "    <tr>\n",
       "      <th>79</th>\n",
       "      <td>0.301998</td>\n",
       "      <td>0.892629</td>\n",
       "      <td>0.726254</td>\n",
       "    </tr>\n",
       "    <tr>\n",
       "      <th>80</th>\n",
       "      <td>0.629576</td>\n",
       "      <td>0.118362</td>\n",
       "      <td>0.109788</td>\n",
       "    </tr>\n",
       "    <tr>\n",
       "      <th>81</th>\n",
       "      <td>0.047235</td>\n",
       "      <td>0.612101</td>\n",
       "      <td>0.335678</td>\n",
       "    </tr>\n",
       "    <tr>\n",
       "      <th>82</th>\n",
       "      <td>0.905291</td>\n",
       "      <td>0.820394</td>\n",
       "      <td>0.480486</td>\n",
       "    </tr>\n",
       "    <tr>\n",
       "      <th>83</th>\n",
       "      <td>0.523880</td>\n",
       "      <td>0.169194</td>\n",
       "      <td>0.378500</td>\n",
       "    </tr>\n",
       "    <tr>\n",
       "      <th>84</th>\n",
       "      <td>0.099170</td>\n",
       "      <td>0.381036</td>\n",
       "      <td>0.179568</td>\n",
       "    </tr>\n",
       "    <tr>\n",
       "      <th>85</th>\n",
       "      <td>0.141437</td>\n",
       "      <td>0.632376</td>\n",
       "      <td>0.341529</td>\n",
       "    </tr>\n",
       "    <tr>\n",
       "      <th>86</th>\n",
       "      <td>0.335998</td>\n",
       "      <td>0.468384</td>\n",
       "      <td>0.984315</td>\n",
       "    </tr>\n",
       "    <tr>\n",
       "      <th>87</th>\n",
       "      <td>0.998696</td>\n",
       "      <td>0.957064</td>\n",
       "      <td>0.091237</td>\n",
       "    </tr>\n",
       "    <tr>\n",
       "      <th>88</th>\n",
       "      <td>0.957050</td>\n",
       "      <td>0.278523</td>\n",
       "      <td>0.414330</td>\n",
       "    </tr>\n",
       "    <tr>\n",
       "      <th>89</th>\n",
       "      <td>0.567038</td>\n",
       "      <td>0.724850</td>\n",
       "      <td>0.877245</td>\n",
       "    </tr>\n",
       "    <tr>\n",
       "      <th>90</th>\n",
       "      <td>0.805647</td>\n",
       "      <td>0.318793</td>\n",
       "      <td>0.688720</td>\n",
       "    </tr>\n",
       "    <tr>\n",
       "      <th>91</th>\n",
       "      <td>0.001523</td>\n",
       "      <td>0.203985</td>\n",
       "      <td>0.607873</td>\n",
       "    </tr>\n",
       "    <tr>\n",
       "      <th>92</th>\n",
       "      <td>0.029763</td>\n",
       "      <td>0.944832</td>\n",
       "      <td>0.426376</td>\n",
       "    </tr>\n",
       "    <tr>\n",
       "      <th>93</th>\n",
       "      <td>0.245862</td>\n",
       "      <td>0.332054</td>\n",
       "      <td>0.023483</td>\n",
       "    </tr>\n",
       "    <tr>\n",
       "      <th>94</th>\n",
       "      <td>0.264567</td>\n",
       "      <td>0.100750</td>\n",
       "      <td>0.542313</td>\n",
       "    </tr>\n",
       "    <tr>\n",
       "      <th>95</th>\n",
       "      <td>0.675759</td>\n",
       "      <td>0.641013</td>\n",
       "      <td>0.341832</td>\n",
       "    </tr>\n",
       "    <tr>\n",
       "      <th>96</th>\n",
       "      <td>0.504628</td>\n",
       "      <td>0.591645</td>\n",
       "      <td>0.994013</td>\n",
       "    </tr>\n",
       "    <tr>\n",
       "      <th>97</th>\n",
       "      <td>0.939469</td>\n",
       "      <td>0.984846</td>\n",
       "      <td>0.553998</td>\n",
       "    </tr>\n",
       "    <tr>\n",
       "      <th>98</th>\n",
       "      <td>0.220519</td>\n",
       "      <td>0.538176</td>\n",
       "      <td>0.846030</td>\n",
       "    </tr>\n",
       "    <tr>\n",
       "      <th>99</th>\n",
       "      <td>0.843657</td>\n",
       "      <td>0.126516</td>\n",
       "      <td>0.681280</td>\n",
       "    </tr>\n",
       "  </tbody>\n",
       "</table>\n",
       "</div>"
      ],
      "text/plain": [
       "           0         1         5\n",
       "0   0.643922  0.406495  0.441299\n",
       "1   0.459184  0.691137  0.342865\n",
       "2   0.614662  0.375019  0.114749\n",
       "3   0.121082  0.212826  0.765512\n",
       "4   0.405394  0.761809  0.453150\n",
       "5   0.548662  0.903565  0.944342\n",
       "6   0.816397  0.912059  0.511260\n",
       "7   0.779689  0.476548  0.284231\n",
       "8   0.938475  0.334942  0.977050\n",
       "9   0.374091  0.550647  0.454439\n",
       "10  0.333395  0.528941  0.745814\n",
       "11  0.615618  0.712531  0.496402\n",
       "12  0.995753  0.579690  0.703644\n",
       "13  0.796478  0.405307  0.411211\n",
       "14  0.511158  0.494117  0.835629\n",
       "15  0.901813  0.547628  0.226536\n",
       "16  0.534819  0.432338  0.360688\n",
       "17  0.205301  0.219365  0.605447\n",
       "18  0.758777  0.300205  0.480069\n",
       "19  0.225418  0.206375  0.453053\n",
       "20  0.830380  0.394125  0.304203\n",
       "21  0.396189  0.907389  0.783526\n",
       "22  0.971359  0.796642  0.691562\n",
       "23  0.378809  0.175136  0.425690\n",
       "24  0.838382  0.643633  0.593713\n",
       "25  0.658383  0.432599  0.867673\n",
       "26  0.282028  0.502101  0.525212\n",
       "27  0.493538  0.648186  0.176517\n",
       "28  0.292028  0.793261  0.199788\n",
       "29  0.744795  0.843941  0.564335\n",
       "30  0.415470  0.177052  0.715220\n",
       "31  0.854497  0.710051  0.777725\n",
       "32  0.931247  0.418154  0.940972\n",
       "33  0.561089  0.706533  0.164914\n",
       "34  0.041075  0.345874  0.916146\n",
       "35  0.565444  0.624143  0.702975\n",
       "36  0.887639  0.516664  0.106308\n",
       "37  0.912553  0.596887  0.968702\n",
       "38  0.082610  0.707203  0.614489\n",
       "39  0.256662  0.780537  0.902091\n",
       "40  0.987353  0.001752  0.977011\n",
       "41  0.846659  0.780027  0.138854\n",
       "42  0.807426  0.867281  0.169907\n",
       "43  0.455611  0.274589  0.675226\n",
       "44  0.430785  0.309773  0.400091\n",
       "45  0.354152  0.086307  0.097303\n",
       "46  0.825487  0.570013  0.460168\n",
       "47  0.452128  0.293641  0.420109\n",
       "48  0.996053  0.213747  0.651840\n",
       "49  0.869391  0.736574  0.776414\n",
       "50  0.983386  0.884167  0.545683\n",
       "51  0.612463  0.223231  0.590618\n",
       "52  0.376590  0.307888  0.476200\n",
       "53  0.188112  0.846722  0.224511\n",
       "54  0.111109  0.356002  0.527081\n",
       "55  0.425009  0.211559  0.325088\n",
       "56  0.259856  0.803464  0.055587\n",
       "57  0.413522  0.034156  0.120142\n",
       "58  0.345976  0.574896  0.115240\n",
       "59  0.952517  0.197745  0.700255\n",
       "60  0.411326  0.899417  0.994107\n",
       "61  0.105869  0.216358  0.001654\n",
       "62  0.359347  0.336746  0.812453\n",
       "63  0.655565  0.468521  0.646152\n",
       "64  0.014368  0.709583  0.299212\n",
       "65  0.172344  0.043120  0.632848\n",
       "66  0.068020  0.131946  0.989276\n",
       "67  0.661519  0.056511  0.167596\n",
       "68  0.484944  0.785457  0.242588\n",
       "69  0.446558  0.770558  0.627822\n",
       "70  0.353157  0.721371  0.396493\n",
       "71  0.398110  0.215385  0.441504\n",
       "72  0.170153  0.881843  0.605765\n",
       "73  0.637316  0.706440  0.953095\n",
       "74  0.234388  0.080574  0.422155\n",
       "75  0.733198  0.927041  0.822984\n",
       "76  0.238330  0.507965  0.062605\n",
       "77  0.566978  0.972818  0.150036\n",
       "78  0.624641  0.721219  0.291676\n",
       "79  0.301998  0.892629  0.726254\n",
       "80  0.629576  0.118362  0.109788\n",
       "81  0.047235  0.612101  0.335678\n",
       "82  0.905291  0.820394  0.480486\n",
       "83  0.523880  0.169194  0.378500\n",
       "84  0.099170  0.381036  0.179568\n",
       "85  0.141437  0.632376  0.341529\n",
       "86  0.335998  0.468384  0.984315\n",
       "87  0.998696  0.957064  0.091237\n",
       "88  0.957050  0.278523  0.414330\n",
       "89  0.567038  0.724850  0.877245\n",
       "90  0.805647  0.318793  0.688720\n",
       "91  0.001523  0.203985  0.607873\n",
       "92  0.029763  0.944832  0.426376\n",
       "93  0.245862  0.332054  0.023483\n",
       "94  0.264567  0.100750  0.542313\n",
       "95  0.675759  0.641013  0.341832\n",
       "96  0.504628  0.591645  0.994013\n",
       "97  0.939469  0.984846  0.553998\n",
       "98  0.220519  0.538176  0.846030\n",
       "99  0.843657  0.126516  0.681280"
      ]
     },
     "metadata": {},
     "output_type": "display_data"
    }
   ],
   "source": [
    "pgdf(df[[0,1,5]] )"
   ]
  },
  {
   "cell_type": "markdown",
   "metadata": {
    "ExecuteTime": {
     "end_time": "2019-09-18T14:14:36.327434Z",
     "start_time": "2019-09-18T14:14:36.325191Z"
    }
   },
   "source": [
    "### Optional Exercise : Create a Random numpy array 1000 x 1000 and then convert to GPU dataframe.  The select columns 444,555,888 from the array.\n",
    "\n"
   ]
  },
  {
   "cell_type": "code",
   "execution_count": null,
   "metadata": {},
   "outputs": [],
   "source": []
  },
  {
   "cell_type": "markdown",
   "metadata": {},
   "source": [
    "## CuML basics\n",
    "\n",
    "CuML is the a machine learning library implemented on the Nvidia GPU.  This allows you to use many of the most common machine learning algorithms without having to write CUDA code.  The list of algorithms is growing with each release so its worth taking a look at the cuML github repo, but in general you can expect a 10x to 50x performance speedup when using the GPU enabled algorithm.  **Later in this lab we will see examples of PCA and linear regression.**"
   ]
  },
  {
   "cell_type": "markdown",
   "metadata": {},
   "source": [
    "## Dask\n",
    "\n",
    "<img src=\"../nb_images/dask.png\" alt=\"Drawing\" style=\"float :left; margin-right: 20px; width: 200px;\" />\n",
    "\n",
    "\n",
    "Dask is an extremely useful python library that enables parallel execution of arbitrary python programs allowing you to make maximum use of system resources.  It is typically used for libraries that are written in single threaded implementation like pandas and numpy, but its also very useful for running many a parallel tasks when using Rapids.  We will have a code sample to demonstrate this at the end of the lab.\n"
   ]
  },
  {
   "cell_type": "markdown",
   "metadata": {},
   "source": [
    "# Lab Use Case \n",
    "\n",
    "**The main goal of this lab is to focus on the performance differences of Rapids(GPU) vs Pandas/Sklearn (CPU) implemenations.**  \n",
    "<br>\n",
    "\n",
    "<img src=\"../nb_images/lendingclub.png\" alt=\"Drawing\" style=\"float :left; margin-right: 20px; width: 300px;\" />\n",
    "<br>To do this we will use the Lending Club publicly available dataset. \n",
    "This data set is published by lending club and contains information regarding prospective loan applicants.  \n",
    "<br><br><br><br>\n",
    "**As we go through the lab, we will show the similarity in the syntax/usage of the library using this real world dataset and keep track of the runtimes in a comparison report.**\n",
    "\n"
   ]
  },
  {
   "cell_type": "markdown",
   "metadata": {
    "ExecuteTime": {
     "end_time": "2019-08-23T16:25:07.742462Z",
     "start_time": "2019-08-23T16:25:07.740235Z"
    }
   },
   "source": [
    "## Lending Club data and Lab Details"
   ]
  },
  {
   "cell_type": "code",
   "execution_count": null,
   "metadata": {
    "ExecuteTime": {
     "end_time": "2019-09-19T18:48:06.216390Z",
     "start_time": "2019-09-19T18:48:06.213817Z"
    }
   },
   "outputs": [],
   "source": [
    "# DEBUG CODE REMOVE LATER\n",
    "\n",
    "# a = timeit.timeit('\"-\".join(str(n) for n in range(100))', number=1)\n",
    "# run_times.add_result(\"test\", \"gpu\", a)\n",
    "# run_times.display_results()\n",
    "# \n",
    "# b = timeit.timeit('\"-\".join(str(n) for n in range(100))', number=100)\n",
    "# run_times.add_result(\"test\", \"cpu\", b)\n",
    "# a = timeit.timeit('\"-\".join(str(n) for n in range(100))', number=1)\n",
    "# run_times.add_result(\"test\", \"gpu\", a)\n",
    "# b = timeit.timeit('\"-\".join(str(n) for n in range(100))', number=100)\n",
    "# run_times.add_result(\"test\", \"cpu\", b)\n",
    "# a = timeit.timeit('\"-\".join(str(n) for n in range(100))', number=1)\n",
    "# run_times.add_result(\"test1\", \"gpu\", a)\n",
    "# b = timeit.timeit('\"-\".join(str(n) for n in range(100))', number=100)\n",
    "# run_times.add_result(\"test1\", \"cpu\", b)\n",
    "# \n",
    "# run_times.display_results()"
   ]
  },
  {
   "cell_type": "markdown",
   "metadata": {},
   "source": [
    "# Data Preparation using cuDF\n",
    "\n",
    "Here we will load in the lending club dataset and perform some basic data preparation steps.  \n",
    "\n",
    "Each section is composed of the same workflow\n",
    "\n",
    "- [ ] cpu example\n",
    "- [ ] gpu example\n",
    "- [ ] comparison of results\n",
    "- [ ] logging of runtimes\n"
   ]
  },
  {
   "cell_type": "markdown",
   "metadata": {},
   "source": [
    "\n",
    "## Load the Lending Club Data\n",
    "\n",
    "Here we will load the data twice.  Once into a pandas dataframe **loan_pdf** and once into a rapids dataframe **loan_rdf**.  "
   ]
  },
  {
   "cell_type": "code",
   "execution_count": null,
   "metadata": {
    "ExecuteTime": {
     "end_time": "2019-09-19T19:17:29.513783Z",
     "start_time": "2019-09-19T19:17:28.711007Z"
    }
   },
   "outputs": [],
   "source": [
    "# import data\n",
    "filename = \"../dataprep_common/loan_project_df.parquet.gzip\"\n",
    "DATA_DOUBLE_FACTOR=3\n",
    "\n",
    "# Pandas dataframe\n",
    "loan_pdf = pd.read_parquet(filename)#  , names=ts_cols,dtype=ts_dtypes,skiprows=1)\n",
    "\n",
    "# Rapids Dataframe\n",
    "loan_rdf = cudf.read_parquet(filename)#  , names=ts_cols,dtype=ts_dtypes,skiprows=1)"
   ]
  },
  {
   "cell_type": "code",
   "execution_count": null,
   "metadata": {
    "ExecuteTime": {
     "end_time": "2019-09-19T18:48:09.437221Z",
     "start_time": "2019-09-19T18:48:06.780759Z"
    }
   },
   "outputs": [],
   "source": [
    "# Scale up data to 40 million rows\n",
    "for i in range(DATA_DOUBLE_FACTOR) :\n",
    "    loan_pdf = pd.concat([loan_pdf,loan_pdf],axis=0)\n",
    "    loan_rdf = cudf.concat([loan_rdf,loan_rdf],axis=0)\n",
    "    loan_rdf = loan_rdf.reset_index().drop(\"index\",axis=1)\n",
    "    loan_pdf = loan_pdf.reset_index().drop(\"index\",axis=1)\n",
    "    #pgdf(loan_rdf.head())\n",
    "    #display(loan_pdf.head())\n",
    "    "
   ]
  },
  {
   "cell_type": "code",
   "execution_count": null,
   "metadata": {
    "ExecuteTime": {
     "end_time": "2019-09-19T18:48:09.461170Z",
     "start_time": "2019-09-19T18:48:09.440055Z"
    }
   },
   "outputs": [],
   "source": [
    "# Dataframe attributes\n",
    "print(\"Rapids\")\n",
    "print(\"\\nDataframe datatypes\\n---------------------\")\n",
    "print(loan_rdf.dtypes)\n",
    "print(\"\\nDataframe Shape (rows,cols)\\n---------------------\")\n",
    "print(loan_rdf.shape)\n",
    "print(\"\\nDataframe dimesions\\n---------------------\")\n",
    "print(loan_rdf.ndim)\n",
    "print(\"\\nDataframe Column names\\n---------------------\")\n",
    "print(loan_rdf.columns)\n",
    "\n",
    "# Dataframe attributes\n",
    "print(\"\\n\\nPandas\")\n",
    "print(\"\\nDataframe datatypes\\n---------------------\")\n",
    "print(loan_pdf.dtypes)\n",
    "print(\"\\nDataframe Shape (rows,cols)\\n---------------------\")\n",
    "print(loan_pdf.shape)\n",
    "print(\"\\nDataframe dimesions\\n---------------------\")\n",
    "print(loan_pdf.ndim)\n",
    "print(\"\\nDataframe Column names\\n---------------------\")\n",
    "print(loan_pdf.columns)\n",
    "print(\"\\nDataframe Memory Usage\\n---------------------\")\n",
    "print(loan_pdf.memory_usage(index=True).sum())\n",
    "\n",
    "run_times.df_shape = loan_pdf.shape\n",
    "run_times.df_memory_gb = loan_pdf.memory_usage(index=True).sum() /10**9"
   ]
  },
  {
   "cell_type": "code",
   "execution_count": null,
   "metadata": {
    "ExecuteTime": {
     "end_time": "2019-09-19T18:48:11.669296Z",
     "start_time": "2019-09-19T18:48:09.463056Z"
    }
   },
   "outputs": [],
   "source": [
    "pgdf(loan_rdf)"
   ]
  },
  {
   "cell_type": "markdown",
   "metadata": {
    "ExecuteTime": {
     "end_time": "2019-08-26T19:36:33.650293Z",
     "start_time": "2019-08-26T19:36:33.647835Z"
    }
   },
   "source": [
    "## Descriptive Statistics - Describe Performance comparison\n",
    "\n",
    "The first comparison we will make is using the describe function.  Describe is useful because it looks at all the descriptive statistics of the dataset.  It calculates **mean/standard deviation/medain statistics** for all the numerical columns.  If you have a large dataframe it can take some time to calculate.  Lets see how Rapids performs  with this dataset."
   ]
  },
  {
   "cell_type": "code",
   "execution_count": null,
   "metadata": {
    "ExecuteTime": {
     "end_time": "2019-09-19T18:48:16.717881Z",
     "start_time": "2019-09-19T18:48:11.671272Z"
    }
   },
   "outputs": [],
   "source": [
    "# CPU / pandas\n",
    "loan_pdf.describe()"
   ]
  },
  {
   "cell_type": "code",
   "execution_count": null,
   "metadata": {
    "ExecuteTime": {
     "end_time": "2019-09-19T18:48:17.307651Z",
     "start_time": "2019-09-19T18:48:16.719918Z"
    }
   },
   "outputs": [],
   "source": [
    "# GPU / Rapids\n",
    "pgdf(loan_rdf.describe())"
   ]
  },
  {
   "cell_type": "code",
   "execution_count": null,
   "metadata": {
    "ExecuteTime": {
     "end_time": "2019-09-19T18:48:22.564066Z",
     "start_time": "2019-09-19T18:48:17.309641Z"
    }
   },
   "outputs": [],
   "source": [
    "# Record results\n",
    "def describe_gpu():\n",
    "    loan_rdf.describe()\n",
    "\n",
    "def describe_cpu():\n",
    "    loan_pdf.describe()\n",
    "\n",
    "#display(loan_rdf.describe().to_pandas())\n",
    "\n",
    "run_times.add_result(\"describe\", \"gpu\", time_command(describe_gpu))\n",
    "run_times.add_result(\"describe\", \"cpu\", time_command(describe_cpu))\n",
    "\n",
    "run_times.display_results()"
   ]
  },
  {
   "cell_type": "markdown",
   "metadata": {},
   "source": [
    "## One Hot Encoding (OHE) Performance Comparison\n",
    "\n",
    "One hot encoding is a process by which categorical variables are converted into a form that could be provided to ML algorithms to do a better job in prediction.\n",
    "\n",
    "Currently, one hot endcoding for Rapids requires the column that is to be encoded to be an integer or float, not a string.  You will need to create an integer column prior to using this!  You can use the hash_encode method to accomplish this, although you lose a little bit of readability.  In future versions of the software this is fixed."
   ]
  },
  {
   "cell_type": "code",
   "execution_count": null,
   "metadata": {
    "ExecuteTime": {
     "end_time": "2019-09-19T19:51:46.337275Z",
     "start_time": "2019-09-19T19:51:46.226593Z"
    }
   },
   "outputs": [],
   "source": [
    "# CPU / pandas example\n",
    "ohe_cpu_df = pd.get_dummies(loan_pdf['grade'])"
   ]
  },
  {
   "cell_type": "code",
   "execution_count": null,
   "metadata": {
    "ExecuteTime": {
     "end_time": "2019-09-19T19:53:07.463064Z",
     "start_time": "2019-09-19T19:53:07.417010Z"
    }
   },
   "outputs": [],
   "source": [
    "# GPU / Rapids example\n",
    "# cudf 0.9 cudf.reshape.general.get_dummies(df, prefix=None, prefix_sep='_', dummy_na=False, columns=None, cats={}, sparse=False, drop_first=False, dtype='int8')\n",
    "\n",
    "# Needed 50 hash values to get uniqueness ... probably a better way, but for now lets move on\n",
    "# print(ohe_gpu_df.grade.hash_encode(stop=50).value_counts())\n",
    "# print(ohe_gpu_df.grade.hash_encode(stop=50))\n",
    "# print(ohe_gpu_df.grade.hash_encode(stop=50))\n",
    "\n",
    "MAX_VAL=50\n",
    "loan_rdf['grade_hash'] = loan_rdf['grade'].hash_encode(stop=MAX_VAL)\n",
    "ohe_gpu_df = loan_rdf.one_hot_encoding(column='grade_hash', prefix='g', cats=[27,45,36,28,48,17,25])\n"
   ]
  },
  {
   "cell_type": "code",
   "execution_count": null,
   "metadata": {
    "ExecuteTime": {
     "end_time": "2019-09-19T19:53:22.580526Z",
     "start_time": "2019-09-19T19:53:22.467025Z"
    }
   },
   "outputs": [],
   "source": [
    "# Compare the results\n",
    "print(\"Pandas ...\")\n",
    "display(ohe_cpu_df.head(10))\n",
    "#pgdf(ohe_gpu_df[ohe_gpu_df['grade']=='A'].head(20))\n",
    "print(\"Rapids ...\")\n",
    "ohe_gpu_df = ohe_gpu_df.rename({\"g_27\": \"A\",\"g_45\": \"B\",\"g_36\": \"C\",\"g_28\": \"D\",\"g_48\": \"E\",\"g_17\": \"F\",\"g_25\": \"G\"})\n",
    "pgdf(ohe_gpu_df[['A','B','C','D','E','F','G']].head(10))\n",
    "\n"
   ]
  },
  {
   "cell_type": "code",
   "execution_count": null,
   "metadata": {
    "ExecuteTime": {
     "end_time": "2019-09-19T19:54:04.349730Z",
     "start_time": "2019-09-19T19:54:04.189003Z"
    }
   },
   "outputs": [],
   "source": [
    "# Record the results\n",
    "\n",
    "def ohe_cpu() :\n",
    "    pd.get_dummies(loan_pdf['grade'])\n",
    "\n",
    "def ohe_gpu() :\n",
    "    MAX_VAL=50\n",
    "    loan_rdf['grade_hash'] = loan_rdf['grade'].hash_encode(stop=MAX_VAL)\n",
    "    ohe_gpu_df = loan_rdf.one_hot_encoding(column='grade_hash', prefix='g', cats=[27,45,36,28,48,17,25])\n",
    "\n",
    "run_times.add_result(\"one_hot_encode\", \"cpu\", time_command(ohe_cpu))\n",
    "run_times.add_result(\"one_hot_encode\", \"gpu\", time_command(ohe_gpu))\n",
    "run_times.display_results()\n"
   ]
  },
  {
   "cell_type": "markdown",
   "metadata": {},
   "source": [
    "## Filter with Date and Time ops - Performance comparison\n",
    "\n",
    "Current datetime functionality is limited to filtering data set for specific times.  Datetime doesn't not yet support math operations.\n",
    "\n",
    "Here we will find loan applicants that have a credit line prior to 2010."
   ]
  },
  {
   "cell_type": "code",
   "execution_count": null,
   "metadata": {
    "ExecuteTime": {
     "end_time": "2019-09-19T18:48:38.375827Z",
     "start_time": "2019-09-19T18:48:38.372059Z"
    }
   },
   "outputs": [],
   "source": [
    "import datetime as dt\n",
    "\n",
    "search_date = dt.datetime.strptime('2010-01-01', '%Y-%m-%d')"
   ]
  },
  {
   "cell_type": "code",
   "execution_count": null,
   "metadata": {
    "ExecuteTime": {
     "end_time": "2019-09-19T18:48:39.166090Z",
     "start_time": "2019-09-19T18:48:38.447258Z"
    }
   },
   "outputs": [],
   "source": [
    "# CPU / pandas\n",
    "query_cpu=loan_pdf.query('earliest_cr_line <= @search_date')\n"
   ]
  },
  {
   "cell_type": "code",
   "execution_count": null,
   "metadata": {
    "ExecuteTime": {
     "end_time": "2019-09-19T18:48:40.865053Z",
     "start_time": "2019-09-19T18:48:39.167967Z"
    }
   },
   "outputs": [],
   "source": [
    "# GPU / Rapids\n",
    "query_gpu=loan_rdf.query('earliest_cr_line <= @search_date')\n"
   ]
  },
  {
   "cell_type": "code",
   "execution_count": null,
   "metadata": {
    "ExecuteTime": {
     "end_time": "2019-09-19T18:48:40.941480Z",
     "start_time": "2019-09-19T18:48:40.867184Z"
    }
   },
   "outputs": [],
   "source": [
    "# compare results\n",
    "display(query_cpu.head())\n",
    "pgdf(query_gpu.head())"
   ]
  },
  {
   "cell_type": "code",
   "execution_count": null,
   "metadata": {
    "ExecuteTime": {
     "end_time": "2019-09-19T18:48:44.176864Z",
     "start_time": "2019-09-19T18:48:40.943332Z"
    }
   },
   "outputs": [],
   "source": [
    "# Filter Record results\n",
    "def filter_cpu():\n",
    "    loan_pdf.query('earliest_cr_line <= @search_date')\n",
    "    \n",
    "def filter_gpu():\n",
    "    loan_rdf.query('earliest_cr_line <= @search_date')\n",
    "    \n",
    "run_times.add_result(\"filter_dt\", \"cpu\", time_command(filter_cpu,repeat=3))\n",
    "run_times.add_result(\"filter_dt\", \"gpu\", time_command(filter_gpu,repeat=3))\n",
    "run_times.display_results()\n"
   ]
  },
  {
   "cell_type": "markdown",
   "metadata": {},
   "source": [
    "## Sort by value\n",
    "\n",
    "Sorting is a very expensive operation in data preparation so its useful to evaluate the performance of method.  Here we select a column to sort by and then compare the results."
   ]
  },
  {
   "cell_type": "code",
   "execution_count": null,
   "metadata": {
    "ExecuteTime": {
     "end_time": "2019-09-19T18:48:47.705664Z",
     "start_time": "2019-09-19T18:48:44.178637Z"
    }
   },
   "outputs": [],
   "source": [
    "# CPU / pandas\n",
    "sort_cpu=loan_pdf.sort_values(by='fico_range_high')"
   ]
  },
  {
   "cell_type": "code",
   "execution_count": null,
   "metadata": {
    "ExecuteTime": {
     "end_time": "2019-09-19T18:48:48.385368Z",
     "start_time": "2019-09-19T18:48:47.707684Z"
    }
   },
   "outputs": [],
   "source": [
    "# GPU / Rapids\n",
    "sort_gpu=loan_rdf.sort_values(by='fico_range_high')"
   ]
  },
  {
   "cell_type": "code",
   "execution_count": null,
   "metadata": {
    "ExecuteTime": {
     "end_time": "2019-09-19T18:48:48.461782Z",
     "start_time": "2019-09-19T18:48:48.387293Z"
    }
   },
   "outputs": [],
   "source": [
    "# compare results\n",
    "display(query_cpu.head())\n",
    "pgdf(query_gpu.head())"
   ]
  },
  {
   "cell_type": "code",
   "execution_count": null,
   "metadata": {
    "ExecuteTime": {
     "end_time": "2019-09-19T18:48:52.423190Z",
     "start_time": "2019-09-19T18:48:48.465045Z"
    }
   },
   "outputs": [],
   "source": [
    "# Sorting Record results\n",
    "def sort_cpu():\n",
    "    loan_pdf.sort_values(by='fico_range_high')\n",
    "    \n",
    "def sort_gpu():\n",
    "    loan_rdf.sort_values(by='fico_range_high')\n",
    "    \n",
    "run_times.add_result(\"sorting\", \"cpu\", time_command(sort_cpu))\n",
    "run_times.add_result(\"sorting\", \"gpu\", time_command(sort_gpu))\n",
    "run_times.display_results()\n"
   ]
  },
  {
   "cell_type": "markdown",
   "metadata": {},
   "source": [
    "## Histograms and Custom functions\n",
    "\n",
    "Here we demonstrate how fast Rapids is at creating histogram bins.  We use the loan_amount column with a custom function to create a loan_bins column.  Then we grab the value counts using both Pandas and Rapids to get a rough comparison of the speed of these types of operations.\n"
   ]
  },
  {
   "cell_type": "code",
   "execution_count": null,
   "metadata": {
    "ExecuteTime": {
     "end_time": "2019-09-19T18:48:52.428565Z",
     "start_time": "2019-09-19T18:48:52.425326Z"
    }
   },
   "outputs": [],
   "source": [
    "# custom function example : creates simple bins for loan_amount histogram\n",
    "def roundto(num):\n",
    "    roundto=5000\n",
    "    a = int(num / roundto)\n",
    "    return float(a*roundto) \n"
   ]
  },
  {
   "cell_type": "code",
   "execution_count": null,
   "metadata": {
    "ExecuteTime": {
     "end_time": "2019-09-19T18:49:03.309543Z",
     "start_time": "2019-09-19T18:48:52.430165Z"
    }
   },
   "outputs": [],
   "source": [
    "# CPU / pandas\n",
    "\n",
    "loan_pdf['loan_bins'] = loan_pdf.loan_amnt.apply(roundto)\n",
    "loan_pdf['loan_bins'].value_counts()\n"
   ]
  },
  {
   "cell_type": "code",
   "execution_count": null,
   "metadata": {
    "ExecuteTime": {
     "end_time": "2019-09-19T18:49:04.355158Z",
     "start_time": "2019-09-19T18:49:03.311132Z"
    }
   },
   "outputs": [],
   "source": [
    "# GPU / rapids\n",
    "loan_rdf['loan_bins'] = loan_rdf.loan_amnt.applymap(roundto)\n",
    "print(loan_rdf['loan_bins'].value_counts())\n",
    "\n"
   ]
  },
  {
   "cell_type": "code",
   "execution_count": null,
   "metadata": {
    "ExecuteTime": {
     "end_time": "2019-09-19T18:49:15.205832Z",
     "start_time": "2019-09-19T18:49:04.356865Z"
    },
    "scrolled": true
   },
   "outputs": [],
   "source": [
    "# Record the results\n",
    "def hist_cpu() :\n",
    "    loan_pdf['loan_bins'] = loan_pdf.loan_amnt.apply(roundto)\n",
    "    loan_pdf['loan_bins'].value_counts()\n",
    "\n",
    "def hist_gpu() :\n",
    "    loan_rdf['loan_bins'] = loan_rdf.loan_amnt.applymap(roundto)\n",
    "    loan_rdf['loan_bins'].value_counts()\n",
    "\n",
    "run_times.add_result(\"histogram_ops\", \"cpu\", time_command(hist_cpu,repeat=1))\n",
    "run_times.add_result(\"histogram_ops\", \"gpu\", time_command(hist_gpu,repeat=1))\n",
    "run_times.display_results()\n"
   ]
  },
  {
   "cell_type": "markdown",
   "metadata": {},
   "source": [
    "## Groupby \n",
    "\n",
    "Here we perform some aggregation on the lending club data set to get some per grade statistics.  For this exercise we will compare the speed of aggregating over Pandas dataframes and Rapids dataframes using the **groupby** function as shown in the [Rapids documentation](https://docs.rapids.ai/api/cudf/stable/) .  Notice how the syntax is exactly the same!"
   ]
  },
  {
   "cell_type": "code",
   "execution_count": null,
   "metadata": {
    "ExecuteTime": {
     "end_time": "2019-09-19T18:49:16.705588Z",
     "start_time": "2019-09-19T18:49:15.207580Z"
    }
   },
   "outputs": [],
   "source": [
    "# CPU / Pandas\n",
    "# stats by grade\n",
    "grade_stats_pdf = loan_pdf.groupby('grade', as_index=False).agg({\"annual_inc\": [\"count\",\"mean\"], \"loan_amnt\": [\"count\",\"mean\"]})"
   ]
  },
  {
   "cell_type": "code",
   "execution_count": null,
   "metadata": {
    "ExecuteTime": {
     "end_time": "2019-09-19T18:49:17.333763Z",
     "start_time": "2019-09-19T18:49:16.707215Z"
    }
   },
   "outputs": [],
   "source": [
    "#GPU / Rapids\n",
    "# stats by grade\n",
    "grade_stats_rdf = loan_rdf.groupby('grade', as_index=False).agg({\"annual_inc\": [\"count\",\"mean\"], \"loan_amnt\": [\"count\",\"mean\"]})"
   ]
  },
  {
   "cell_type": "code",
   "execution_count": null,
   "metadata": {
    "ExecuteTime": {
     "end_time": "2019-09-19T18:49:17.361031Z",
     "start_time": "2019-09-19T18:49:17.335374Z"
    }
   },
   "outputs": [],
   "source": [
    "# Grade summary statistics\n",
    "display(grade_stats_pdf)\n",
    "pgdf(grade_stats_rdf)"
   ]
  },
  {
   "cell_type": "code",
   "execution_count": null,
   "metadata": {
    "ExecuteTime": {
     "end_time": "2019-09-19T18:49:18.841186Z",
     "start_time": "2019-09-19T18:49:17.362570Z"
    }
   },
   "outputs": [],
   "source": [
    "# Record the results\n",
    "\n",
    "def groupby_cpu() :\n",
    "    loan_pdf.groupby('grade', as_index=False).agg({\"annual_inc\": [\"count\",\"mean\"], \"loan_amnt\": [\"count\",\"mean\"]})\n",
    "\n",
    "def groupby_gpu() :\n",
    "    loan_rdf.groupby('grade', as_index=False).agg({\"annual_inc\": [\"count\",\"mean\"], \"loan_amnt\": [\"count\",\"mean\"]})\n",
    "\n",
    "run_times.add_result(\"groupby_ops\", \"cpu\", time_command(groupby_cpu))\n",
    "run_times.add_result(\"groupby_ops\", \"gpu\", time_command(groupby_gpu))\n",
    "run_times.display_results()"
   ]
  },
  {
   "cell_type": "markdown",
   "metadata": {},
   "source": [
    "## Join \n",
    "\n",
    "Joining two dataframes can be an extremely computationally expensive task.  Here we take the grade summary statistics computed in the groupby experiment above, and join it back with our table using grade as the key.  This is a common practice in machine learning to apply average values per group back to the individual row.  This is a form of [mean encoding](https://towardsdatascience.com/why-you-should-try-mean-encoding-17057262cd0)"
   ]
  },
  {
   "cell_type": "code",
   "execution_count": null,
   "metadata": {
    "ExecuteTime": {
     "end_time": "2019-09-19T18:49:22.599034Z",
     "start_time": "2019-09-19T18:49:18.842794Z"
    }
   },
   "outputs": [],
   "source": [
    "# Pandas Join\n",
    "loan_join_pdf = loan_pdf.set_index('grade').join(grade_stats_pdf.set_index('grade'),on=\"grade\",how=\"left\").reset_index()"
   ]
  },
  {
   "cell_type": "code",
   "execution_count": null,
   "metadata": {
    "ExecuteTime": {
     "end_time": "2019-09-19T18:49:23.642003Z",
     "start_time": "2019-09-19T18:49:22.600838Z"
    }
   },
   "outputs": [],
   "source": [
    "#cuDF Join\n",
    "loan_rdf.set_index('grade').join(grade_stats_rdf.set_index('grade'),on=\"grade\",how=\"left\").reset_index()"
   ]
  },
  {
   "cell_type": "code",
   "execution_count": null,
   "metadata": {
    "ExecuteTime": {
     "end_time": "2019-09-19T18:49:26.895504Z",
     "start_time": "2019-09-19T18:49:23.643637Z"
    }
   },
   "outputs": [],
   "source": [
    "# Record the results\n",
    "def join_cpu() :\n",
    "    loan_pdf.set_index('grade').join(grade_stats_pdf.set_index('grade'),on=\"grade\",how=\"left\").reset_index()\n",
    "def join_gpu() :\n",
    "    loan_rdf.set_index('grade').join(grade_stats_rdf.set_index('grade'),on=\"grade\",how=\"left\").reset_index()\n",
    "\n",
    "run_times.add_result(\"join_ops\", \"cpu\", time_command(join_cpu))\n",
    "run_times.add_result(\"join_ops\", \"gpu\", time_command(join_gpu))\n",
    "run_times.display_results()"
   ]
  },
  {
   "cell_type": "markdown",
   "metadata": {},
   "source": [
    "# Machine Learning"
   ]
  },
  {
   "cell_type": "markdown",
   "metadata": {},
   "source": [
    "## PCA (cuML and sklearn) - Performance comparison\n",
    "\n",
    "<img src=\"https://github.com/dustinvanstee/random-public-files/raw/master/techu-pca.png\"  width=\"200\" height=\"125\" align=\"middle\"/>\n",
    "\n",
    "Principal component analysis (PCA) is a statistical procedure that uses an orthogonal transformation to convert a set of observations of possibly correlated variables into a set of values of linearly uncorrelated variables called principal components. The number of principal components is less than or equal to the number of original variables.\n",
    "\n",
    "A simple way to think about PCA is that it helps compress the data in a lossy representation of the original dataset.\n",
    "\n",
    "**Lets compare the performance of the Sklearn (cpu-based) implemenation vs cuML!**"
   ]
  },
  {
   "cell_type": "code",
   "execution_count": null,
   "metadata": {
    "ExecuteTime": {
     "end_time": "2019-09-19T18:49:26.901025Z",
     "start_time": "2019-09-19T18:49:26.897139Z"
    }
   },
   "outputs": [],
   "source": [
    "# Helper function to normalize GPU dataframe function\n",
    "def normalize_df(gdf) :\n",
    "    for col in gdf.columns :\n",
    "        gdf[col] = (gdf[col] - gdf[col].mean()) / gdf[col].std()\n",
    "    return gdf"
   ]
  },
  {
   "cell_type": "markdown",
   "metadata": {
    "ExecuteTime": {
     "end_time": "2019-09-11T13:50:47.173784Z",
     "start_time": "2019-09-11T13:50:47.171460Z"
    }
   },
   "source": [
    "### Prepare the data for PCA [not timed]\n",
    "Here we do some initial data preparation to normalize the dataframe columns.  We arent comparing performance of this step, its just to get us ready to do the comparison."
   ]
  },
  {
   "cell_type": "code",
   "execution_count": 17,
   "metadata": {
    "ExecuteTime": {
     "end_time": "2019-09-23T11:06:04.326156Z",
     "start_time": "2019-09-23T11:06:04.310588Z"
    }
   },
   "outputs": [
    {
     "ename": "NameError",
     "evalue": "name 'loan_rdf' is not defined",
     "output_type": "error",
     "traceback": [
      "\u001b[0;31m---------------------------------------------------------------------------\u001b[0m",
      "\u001b[0;31mNameError\u001b[0m                                 Traceback (most recent call last)",
      "\u001b[0;32m<ipython-input-17-e5eeb679e0fa>\u001b[0m in \u001b[0;36m<module>\u001b[0;34m\u001b[0m\n\u001b[0;32m----> 1\u001b[0;31m \u001b[0mX_cols\u001b[0m \u001b[0;34m=\u001b[0m \u001b[0mlist\u001b[0m\u001b[0;34m(\u001b[0m\u001b[0mloan_rdf\u001b[0m\u001b[0;34m.\u001b[0m\u001b[0mcolumns\u001b[0m\u001b[0;34m)\u001b[0m\u001b[0;34m\u001b[0m\u001b[0;34m\u001b[0m\u001b[0m\n\u001b[0m\u001b[1;32m      2\u001b[0m \u001b[0mprint\u001b[0m\u001b[0;34m(\u001b[0m\u001b[0;34m\"Analysis Continuing with {}\"\u001b[0m\u001b[0;34m.\u001b[0m\u001b[0mformat\u001b[0m\u001b[0;34m(\u001b[0m\u001b[0mX_cols\u001b[0m\u001b[0;34m)\u001b[0m\u001b[0;34m)\u001b[0m\u001b[0;34m\u001b[0m\u001b[0;34m\u001b[0m\u001b[0m\n\u001b[1;32m      3\u001b[0m \u001b[0mX_cols\u001b[0m\u001b[0;34m.\u001b[0m\u001b[0mremove\u001b[0m\u001b[0;34m(\u001b[0m\u001b[0;34m'default'\u001b[0m\u001b[0;34m)\u001b[0m\u001b[0;34m\u001b[0m\u001b[0;34m\u001b[0m\u001b[0m\n\u001b[1;32m      4\u001b[0m \u001b[0mX_cols\u001b[0m\u001b[0;34m.\u001b[0m\u001b[0mremove\u001b[0m\u001b[0;34m(\u001b[0m\u001b[0;34m'grade'\u001b[0m\u001b[0;34m)\u001b[0m\u001b[0;34m\u001b[0m\u001b[0;34m\u001b[0m\u001b[0m\n\u001b[1;32m      5\u001b[0m \u001b[0mX_cols\u001b[0m\u001b[0;34m.\u001b[0m\u001b[0mremove\u001b[0m\u001b[0;34m(\u001b[0m\u001b[0;34m'grade_hash'\u001b[0m\u001b[0;34m)\u001b[0m\u001b[0;34m\u001b[0m\u001b[0;34m\u001b[0m\u001b[0m\n",
      "\u001b[0;31mNameError\u001b[0m: name 'loan_rdf' is not defined"
     ]
    }
   ],
   "source": [
    "X_cols = list(loan_rdf.columns)\n",
    "print(\"Analysis Continuing with {}\".format(X_cols))\n",
    "X_cols.remove('default')\n",
    "X_cols.remove('grade')\n",
    "X_cols.remove('grade_hash')\n",
    "X_cols = [x for x in X_cols if loan_rdf[x].dtype == \"float64\" or loan_rdf[x].dtype == \"int8\"]\n",
    "print(\"Analysis Continuing with {}\".format(X_cols))\n",
    "# All types must be same ....\n",
    "for x in X_cols :\n",
    "    loan_rdf[x] = loan_rdf[x].astype(\"float64\")\n",
    "\n",
    "#print(loan_rdf[X_cols].dtypes)\n",
    "print(\"Normalizing dataframe prior to PCA\")\n",
    "loan_norm_rdf = normalize_df(loan_rdf[X_cols])\n",
    "print(\"Copying dataframe to pandas\")\n",
    "loan_norm_pdf = loan_norm_rdf.to_pandas()\n"
   ]
  },
  {
   "cell_type": "code",
   "execution_count": null,
   "metadata": {
    "ExecuteTime": {
     "end_time": "2019-09-19T18:49:28.075047Z",
     "start_time": "2019-09-19T18:49:27.674272Z"
    }
   },
   "outputs": [],
   "source": [
    "print(\"Normalized Dataframe\")\n",
    "print(loan_norm_rdf[X_cols].dtypes)\n",
    "pgdf(loan_norm_rdf) #.describe()\n"
   ]
  },
  {
   "cell_type": "markdown",
   "metadata": {},
   "source": [
    "## Principal Component Analysis (PCA) Performance \n",
    "\n",
    "We will compare the runtimes of PCA on CPU and then on GPU and also compare the results to make sure they are the same.  \n",
    "\n",
    "Here we take the normalized frame we built above and copy to pandas.  The two dataframes we will be working with are \n",
    "\n",
    "* loan_norm_pdf : normalized pandas dataframe\n",
    "* loan_norm_rdf : normalized GPU/RAPIDS dataframe\n",
    "\n",
    "these are exactly the same dataframe ..."
   ]
  },
  {
   "cell_type": "code",
   "execution_count": null,
   "metadata": {
    "ExecuteTime": {
     "end_time": "2019-09-19T18:49:30.510504Z",
     "start_time": "2019-09-19T18:49:28.078290Z"
    }
   },
   "outputs": [],
   "source": [
    "# PCA\n",
    "# Both import methods supported\n",
    "from cuml import PCA\n",
    "from cuml.decomposition import PCA as PCA_gpu\n",
    "from sklearn.decomposition import PCA as PCA_cpu\n",
    "n_components=5\n"
   ]
  },
  {
   "cell_type": "code",
   "execution_count": null,
   "metadata": {
    "ExecuteTime": {
     "end_time": "2019-09-19T18:49:42.349032Z",
     "start_time": "2019-09-19T18:49:30.512324Z"
    }
   },
   "outputs": [],
   "source": [
    "# RUN PCA ! : CPU / Sklearn implementation\n",
    "pca_loan_cpu = PCA_cpu(n_components=n_components)\n",
    "pca_loan_cpu.fit(loan_norm_pdf)\n"
   ]
  },
  {
   "cell_type": "code",
   "execution_count": null,
   "metadata": {
    "ExecuteTime": {
     "end_time": "2019-09-19T18:49:43.994614Z",
     "start_time": "2019-09-19T18:49:42.350625Z"
    }
   },
   "outputs": [],
   "source": [
    "# RUN PCA ! : GPU / cuML implementation\n",
    "pca_loan_gpu = PCA_gpu(n_components=n_components)\n",
    "pca_loan_gpu.fit(loan_norm_rdf)\n"
   ]
  },
  {
   "cell_type": "markdown",
   "metadata": {},
   "source": [
    "**Compare results** : For PCA we use a scree plot to compare the results.  Scree plots show how much variance in the dataset is explained by each additional principal component.  Below, run the cell and just eyeball the graphs and convince yourself they are the same\n",
    "    "
   ]
  },
  {
   "cell_type": "code",
   "execution_count": null,
   "metadata": {
    "ExecuteTime": {
     "end_time": "2019-09-19T18:49:44.346609Z",
     "start_time": "2019-09-19T18:49:43.996167Z"
    }
   },
   "outputs": [],
   "source": [
    "# Compare results ...\n",
    "\n",
    "display(pca_scree(pca_loan_cpu.explained_variance_ratio_, \"CPU\"))\n",
    "pca_scree(pca_loan_gpu.explained_variance_ratio_, \"GPU\")"
   ]
  },
  {
   "cell_type": "code",
   "execution_count": null,
   "metadata": {
    "ExecuteTime": {
     "end_time": "2019-09-19T18:50:10.859162Z",
     "start_time": "2019-09-19T18:49:44.348182Z"
    }
   },
   "outputs": [],
   "source": [
    "# record PCA performance results\n",
    "def pca_cpu() :    \n",
    "    print(\"cpu pca\")\n",
    "    pca_loan_cpu = PCA_cpu(n_components=n_components)\n",
    "    pca_loan_cpu.fit(loan_norm_pdf)\n",
    "\n",
    "\n",
    "def pca_gpu() :\n",
    "    pca_loan_gpu = PCA_gpu(n_components=n_components)\n",
    "    pca_loan_gpu.fit(loan_norm_rdf)\n",
    "\n",
    "    \n",
    "#print(loan_norm_rdf.shape)    \n",
    "run_times.add_result(\"pca\", \"gpu\", time_command(pca_gpu, repeat=2))\n",
    "run_times.add_result(\"pca\", \"cpu\", time_command(pca_cpu, repeat=2))\n",
    "\n",
    "run_times.display_results()"
   ]
  },
  {
   "cell_type": "markdown",
   "metadata": {},
   "source": [
    "## Linear Regression (cuML / sklearn // snapML)\n",
    "\n",
    "Linear regression is one of the most common algorithms applied to structured data.  Its useful when trying to make a prediction of a continuous variable.  For example, you could use linear regression to try and predict the total expected payment of a loan given historical data about default rates.  Lets try this below with our data set.  (Note lending club doesn't explicity provide this data in its data set, so we will use a fictitious total_payment column in our analysis)"
   ]
  },
  {
   "cell_type": "code",
   "execution_count": null,
   "metadata": {
    "ExecuteTime": {
     "end_time": "2019-09-19T18:48:24.474259Z",
     "start_time": "2019-09-19T18:48:16.097Z"
    }
   },
   "outputs": [],
   "source": [
    "# Linear Regression : CPU / Sklearn\n",
    "from sklearn.linear_model import LinearRegression as LRSKL\n",
    "X = loan_norm_rdf.to_pandas()\n",
    "y = loan_rdf['default'].to_pandas()    \n",
    "lr_cpu = LRSKL(fit_intercept = True, normalize = False)\n",
    "res_cpu = lr_cpu.fit(X,y)"
   ]
  },
  {
   "cell_type": "code",
   "execution_count": null,
   "metadata": {
    "ExecuteTime": {
     "end_time": "2019-09-19T18:48:24.475450Z",
     "start_time": "2019-09-19T18:48:16.338Z"
    }
   },
   "outputs": [],
   "source": [
    "# Linear Regression : GPU / Rapids cuML example\n",
    "from cuml.linear_model import LinearRegression as LRCUML\n",
    "X = loan_norm_rdf\n",
    "y2 = loan_rdf['default'].astype(\"float64\")    \n",
    "lr_gpu = LRCUML(fit_intercept = True, normalize = False) #, algorithm = \"eig\")\n",
    "res_gpu = lr_gpu.fit(X,y2)\n"
   ]
  },
  {
   "cell_type": "code",
   "execution_count": null,
   "metadata": {
    "ExecuteTime": {
     "end_time": "2019-09-19T18:48:24.476652Z",
     "start_time": "2019-09-19T18:48:17.684Z"
    }
   },
   "outputs": [],
   "source": [
    "# Compare results\n",
    "print(\"Coefficients:\")\n",
    "print(res_cpu.coef_)\n",
    "print(\"intercept:\")\n",
    "print(res_cpu.intercept_)\n",
    "\n",
    "print(\"Coefficients:\")\n",
    "print(res_gpu.coef_)\n",
    "print(\"intercept:\")\n",
    "print(res_gpu.intercept_)\n"
   ]
  },
  {
   "cell_type": "code",
   "execution_count": null,
   "metadata": {
    "ExecuteTime": {
     "end_time": "2019-09-19T18:48:24.477951Z",
     "start_time": "2019-09-19T18:48:18.581Z"
    }
   },
   "outputs": [],
   "source": [
    "#Record Results \n",
    "\n",
    "# CPU \n",
    "def lr_cpu() :\n",
    "    lr_cpu = LRSKL(fit_intercept = True, normalize = False)\n",
    "    res = lr_cpu.fit(X,y)\n",
    "    \n",
    "X = loan_norm_rdf.to_pandas()\n",
    "y = loan_rdf['default'].to_pandas()    \n",
    "run_times.add_result(\"linear_reg\", \"cpu\", time_command(lr_cpu, repeat=5))\n",
    "\n",
    "\n",
    "# GPU\n",
    "def lr_gpu() :\n",
    "    lr_gpu = LRCUML(fit_intercept = True, normalize = False, algorithm = \"eig\")\n",
    "    res = lr_gpu.fit(X,y)\n",
    "\n",
    "X = loan_norm_rdf\n",
    "y = loan_rdf['default'].astype(\"float64\")    \n",
    "run_times.add_result(\"linear_reg\", \"gpu\", time_command(lr_gpu, repeat=5))\n",
    "\n",
    "\n",
    "\n",
    "run_times.display_results()    \n",
    "\n"
   ]
  },
  {
   "cell_type": "markdown",
   "metadata": {},
   "source": [
    "# Summary\n",
    "\n",
    "In this lab we covered a number of common functions used by both data engineers and data scientists to manipulate dataframes and also build machine learning models.  The RAPIDS implementation demonstrates how much time you can save by running a lot of these operations on the GPU.   As data set sizes grow, and the number of experiments required increase, this performance gain can be a real advantage for getting to the answers faster.  Lets recap your speedups here ..."
   ]
  },
  {
   "cell_type": "code",
   "execution_count": 19,
   "metadata": {
    "ExecuteTime": {
     "end_time": "2019-09-23T11:12:01.141375Z",
     "start_time": "2019-09-23T11:12:01.138011Z"
    }
   },
   "outputs": [
    {
     "name": "stdout",
     "output_type": "stream",
     "text": [
      "Dataframe size : (0, 0) 0 GB\n",
      "test                 CPU(s)               GPU(s)               GPU Speedup         \n"
     ]
    }
   ],
   "source": [
    "run_times.display_results()    "
   ]
  },
  {
   "cell_type": "markdown",
   "metadata": {
    "ExecuteTime": {
     "end_time": "2019-09-23T11:11:46.196739Z",
     "start_time": "2019-09-23T11:11:46.191946Z"
    }
   },
   "source": [
    "Note, you can play with the dataset size and rerun the notebook to see how that impacts your run results!  TL;DR the larger your dataframe the better the GPU speedups ..."
   ]
  },
  {
   "cell_type": "markdown",
   "metadata": {
    "ExecuteTime": {
     "end_time": "2019-09-23T10:33:01.500418Z",
     "start_time": "2019-09-23T10:33:01.498057Z"
    }
   },
   "source": [
    "## Credits\n",
    "\n",
    "This notebook was built by  Dustin VanStee (vanstee@us.ibm.com) from IBM Worldwide Client Experience Centers.  Special thanks to Steve LaFalce for reviewing the content and suggesting edits.\n"
   ]
  },
  {
   "cell_type": "markdown",
   "metadata": {
    "ExecuteTime": {
     "end_time": "2019-09-11T13:43:26.877680Z",
     "start_time": "2019-09-11T13:43:26.875136Z"
    }
   },
   "source": [
    "# Other interesting applications"
   ]
  },
  {
   "cell_type": "markdown",
   "metadata": {
    "ExecuteTime": {
     "end_time": "2019-09-11T13:43:45.476443Z",
     "start_time": "2019-09-11T13:43:45.474153Z"
    }
   },
   "source": [
    "## Dask With RAPIDS\n",
    "\n",
    "Rapids cuDF and cuML are designed to primarily run on a single GPU.  Using the distributed computing framework dask, we will demonstrate how you can take the above examples and run them at scale over many GPUs!\n",
    "\n",
    "<< Demo Time! >>"
   ]
  },
  {
   "cell_type": "markdown",
   "metadata": {},
   "source": [
    "## Lessons Learned\n",
    "\n",
    "lessons learned ... data MUST be clean prior to descibe functions.  Errors encountered \n",
    "- duplicate index caused error (this was due to concatenating dataframes)\n",
    "- NaN causes KeyError messages.  Columns must be clean !\n",
    "- Pandas takes care of these automatically ...."
   ]
  },
  {
   "cell_type": "code",
   "execution_count": null,
   "metadata": {
    "ExecuteTime": {
     "end_time": "2019-09-18T14:24:57.509324Z",
     "start_time": "2019-09-18T14:24:57.499412Z"
    }
   },
   "outputs": [],
   "source": [
    "# NaN report\n",
    "def nan_report(df) :\n",
    "    for c in df.columns :\n",
    "        print(\"{} {}\".format(c, df[c].null_count))\n",
    "\n",
    "nan_report(loan_rdf)"
   ]
  },
  {
   "cell_type": "code",
   "execution_count": null,
   "metadata": {},
   "outputs": [],
   "source": []
  },
  {
   "cell_type": "code",
   "execution_count": null,
   "metadata": {
    "ExecuteTime": {
     "end_time": "2019-09-23T10:31:49.741591Z",
     "start_time": "2019-09-23T10:31:49.737786Z"
    }
   },
   "outputs": [],
   "source": [
    "## SnapML + Rapids"
   ]
  },
  {
   "cell_type": "code",
   "execution_count": null,
   "metadata": {
    "ExecuteTime": {
     "end_time": "2019-09-18T13:56:02.999934Z",
     "start_time": "2019-09-18T13:53:18.811Z"
    }
   },
   "outputs": [],
   "source": [
    "### SnapML\n",
    "\n",
    "X = loan_norm_rdfloan_rdf2.to_pandas()\n",
    "y = loan_rdf['default'].to_pandas()\n",
    "\n",
    "from pai4sk.linear_model import Ridge as LRSNAP\n",
    "clf = LRSNAP(alpha=1.0)\n",
    "clf.fit(X, y) # doctest: +NORMALIZE_WHITESPACE\n",
    "\n",
    "\n",
    "#Ridge(alpha=1.0, copy_X=True, fit_intercept=True, max_iter=None,\n",
    "#      normalize=False, random_state=None, solver='auto', tol=0.001)"
   ]
  }
 ],
 "metadata": {
  "kernelspec": {
   "display_name": "Python 3",
   "language": "python",
   "name": "python3"
  },
  "language_info": {
   "codemirror_mode": {
    "name": "ipython",
    "version": 3
   },
   "file_extension": ".py",
   "mimetype": "text/x-python",
   "name": "python",
   "nbconvert_exporter": "python",
   "pygments_lexer": "ipython3",
   "version": "3.6.8"
  },
  "toc": {
   "base_numbering": 1,
   "nav_menu": {},
   "number_sections": true,
   "sideBar": true,
   "skip_h1_title": false,
   "title_cell": "Table of Contents",
   "title_sidebar": "Contents",
   "toc_cell": false,
   "toc_position": {
    "height": "calc(100% - 180px)",
    "left": "10px",
    "top": "150px",
    "width": "350.199px"
   },
   "toc_section_display": true,
   "toc_window_display": true
  }
 },
 "nbformat": 4,
 "nbformat_minor": 2
}
